{
 "cells": [
  {
   "cell_type": "code",
   "execution_count": 31,
   "metadata": {},
   "outputs": [
    {
     "data": {
      "text/plain": [
       "<module 'RegTree' from '/Users/jinxinzhe/Documents/GitHub/machinelearning/RegTree.py'>"
      ]
     },
     "execution_count": 31,
     "metadata": {},
     "output_type": "execute_result"
    }
   ],
   "source": [
    "import numpy as np\n",
    "import RegTree as rt\n",
    "import importlib\n",
    "import matplotlib\n",
    "import matplotlib.pyplot as plt\n",
    "importlib.reload(rt)"
   ]
  },
  {
   "cell_type": "code",
   "execution_count": 32,
   "metadata": {},
   "outputs": [],
   "source": [
    "X = rt.load_dataset('exp2.txt')\n",
    "clf = rt.RegTree()\n",
    "my_tree = clf.create_tree(X, rt.model_leaf, \n",
    "                          rt.model_err,ops = (1, 10))"
   ]
  },
  {
   "cell_type": "code",
   "execution_count": 29,
   "metadata": {},
   "outputs": [],
   "source": [
    "a,b,c = rt.linear_solve(np.mat(X))"
   ]
  },
  {
   "cell_type": "code",
   "execution_count": 33,
   "metadata": {},
   "outputs": [
    {
     "data": {
      "text/plain": [
       "{'left': {'left': {'left': matrix([[ 11.96714324]]),\n",
       "   'right': matrix([[ 13.93375368]]),\n",
       "   'sp_ind': 0,\n",
       "   'sp_val': 0.28547699999999998},\n",
       "  'right': {'left': matrix([[ 17.90943117]]),\n",
       "   'right': matrix([[ 21.95775826]]),\n",
       "   'sp_ind': 0,\n",
       "   'sp_val': 0.18861700000000001},\n",
       "  'sp_ind': 0,\n",
       "  'sp_val': 0.23380500000000001},\n",
       " 'right': {'left': matrix([[ 37.85438992]]),\n",
       "  'right': matrix([[ 106.70022693]]),\n",
       "  'sp_ind': 0,\n",
       "  'sp_val': 0.050129},\n",
       " 'sp_ind': 0,\n",
       " 'sp_val': 0.12605}"
      ]
     },
     "execution_count": 33,
     "metadata": {},
     "output_type": "execute_result"
    }
   ],
   "source": [
    "my_tree"
   ]
  },
  {
   "cell_type": "code",
   "execution_count": null,
   "metadata": {
    "collapsed": true
   },
   "outputs": [],
   "source": []
  }
 ],
 "metadata": {
  "kernelspec": {
   "display_name": "Python 3",
   "language": "python",
   "name": "python3"
  },
  "language_info": {
   "codemirror_mode": {
    "name": "ipython",
    "version": 3
   },
   "file_extension": ".py",
   "mimetype": "text/x-python",
   "name": "python",
   "nbconvert_exporter": "python",
   "pygments_lexer": "ipython3",
   "version": "3.6.3"
  }
 },
 "nbformat": 4,
 "nbformat_minor": 2
}
