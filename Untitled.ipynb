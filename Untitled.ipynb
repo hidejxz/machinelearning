{
 "cells": [
  {
   "cell_type": "code",
   "execution_count": 5,
   "metadata": {
    "collapsed": true
   },
   "outputs": [],
   "source": [
    "import numpy as np\n",
    "import kMeans\n",
    "import importlib\n",
    "import matplotlib\n",
    "import matplotlib.pyplot as plt\n",
    "importlib.reload(kMeans)\n",
    "\n",
    "#group = np.array([[1.0,1.1],[1.0,1.0],[0,0],[0,0.1]])\n",
    "#labels = ['A','A','B','B']\n",
    "\n",
    "clf = kMeans.kMeans()\n",
    "data_mat = np.mat(clf.load_dataset('testSet_kmeans.txt'))\n",
    "#clf.classify([0.2,0.2], group, labels, 3)\n",
    "#data,labels = clf.load_dataset('datingTestSet2.txt')\n",
    "#clf.classify_person(data,labels)\n",
    "#data_mat, labels = clf.load_img('trainingDigits')\n",
    "#clf.handwriting('trainingDigits','testDigits',3)"
   ]
  },
  {
   "cell_type": "code",
   "execution_count": 143,
   "metadata": {},
   "outputs": [
    {
     "name": "stdout",
     "output_type": "stream",
     "text": [
      "[[ 4.16053581 -3.87353329]\n",
      " [-2.0177467  -0.89208772]\n",
      " [-1.68207153 -2.83360556]\n",
      " [-0.45662972  5.04248479]]\n",
      "[[ 3.23113972 -2.53879733]\n",
      " [-2.80315467 -0.0487905 ]\n",
      " [-2.9085278  -3.11811235]\n",
      " [ 0.23721978  3.13048439]]\n",
      "[[ 2.8692781  -2.54779119]\n",
      " [-3.28879656  2.53721789]\n",
      " [-3.38237045 -2.9473363 ]\n",
      " [ 0.95675603  3.13198253]]\n",
      "[[ 2.80293085 -2.7315146 ]\n",
      " [-2.64677572  2.78993217]\n",
      " [-3.38237045 -2.9473363 ]\n",
      " [ 2.31553173  3.07737886]]\n",
      "[[ 2.80293085 -2.7315146 ]\n",
      " [-2.46154315  2.78737555]\n",
      " [-3.38237045 -2.9473363 ]\n",
      " [ 2.6265299   3.10868015]]\n"
     ]
    }
   ],
   "source": [
    "a,b = clf.kmeans(data_mat,4)"
   ]
  },
  {
   "cell_type": "code",
   "execution_count": 153,
   "metadata": {},
   "outputs": [
    {
     "data": {
      "text/plain": [
       "matrix([[-3.38237045, -2.9473363 ],\n",
       "        [-2.46154315,  2.78737555],\n",
       "        [ 2.80293085, -2.7315146 ],\n",
       "        [ 2.6265299 ,  3.10868015]])"
      ]
     },
     "execution_count": 153,
     "metadata": {},
     "output_type": "execute_result"
    }
   ],
   "source": [
    "a"
   ]
  },
  {
   "cell_type": "code",
   "execution_count": 161,
   "metadata": {
    "scrolled": true
   },
   "outputs": [
    {
     "data": {
      "text/plain": [
       "matrix([[-2.46154315,  2.78737555],\n",
       "        [ 2.65077367, -2.79019029],\n",
       "        [-3.53973889, -2.89384326],\n",
       "        [ 2.6265299 ,  3.10868015]])"
      ]
     },
     "execution_count": 161,
     "metadata": {},
     "output_type": "execute_result"
    }
   ],
   "source": [
    "np.mat(a)"
   ]
  },
  {
   "cell_type": "code",
   "execution_count": 159,
   "metadata": {},
   "outputs": [
    {
     "name": "stdout",
     "output_type": "stream",
     "text": [
      "[[-4.77261605  3.98086888]\n",
      " [-2.54349412 -1.34353688]]\n",
      "[[-1.50165826  3.26760639]\n",
      " [ 0.46051023 -1.24229563]]\n",
      "[[-0.59196673  3.13360545]\n",
      " [ 0.2392733  -2.10776349]]\n",
      "[[-0.02298687  2.99472915]\n",
      " [-0.18030656 -2.74269124]]\n",
      "[[ 0.08249337  2.94802785]\n",
      " [-0.2897198  -2.83942545]]\n",
      "bb [[0.082493375, 2.94802785], [-0.2897198, -2.8394254499999994]] bb\n",
      "sseSplit: 792.92, notSplit: 0.00\n",
      "best_cent_to_split: 0\n",
      "len of best_cluster_assment: 80\n",
      "aa [[0.082493375, 2.94802785], [-0.2897198, -2.8394254499999994]] aa\n",
      "[[-3.74953511  1.84571494]\n",
      " [ 0.62387174  1.35713264]]\n",
      "[[-2.64677572  2.78993217]\n",
      " [ 2.31553173  3.07737886]]\n",
      "[[-2.46154315  2.78737555]\n",
      " [ 2.6265299   3.10868015]]\n",
      "bb [[-2.46154315, 2.7873755500000006], [2.6265298999999995, 3.10868015]] bb\n",
      "sseSplit: 66.37, notSplit: 466.63\n",
      "[[ 0.4698075  -2.35880947]\n",
      " [-2.0280318  -1.77020415]]\n",
      "[[ 2.65077367 -2.79019029]\n",
      " [-3.53973889 -2.89384326]]\n",
      "bb [[2.650773666666667, -2.790190285714286], [-3.539738894736842, -2.893843263157895]] bb\n",
      "sseSplit: 84.26, notSplit: 326.28\n",
      "best_cent_to_split: 1\n",
      "len of best_cluster_assment: 40\n",
      "aa [[2.650773666666667, -2.790190285714286], [-3.539738894736842, -2.893843263157895]] aa\n",
      "[[-4.08971034  5.08406961]\n",
      " [-1.17374692  2.7843405 ]]\n",
      "[[-3.84165867  3.351989  ]\n",
      " [ 0.40066786  2.91527424]]\n",
      "[[-2.84340727  2.7650418 ]\n",
      " [ 1.83803376  3.05781948]]\n",
      "[[-2.46154315  2.78737555]\n",
      " [ 2.6265299   3.10868015]]\n",
      "bb [[-2.46154315, 2.7873755500000006], [2.6265298999999995, 3.10868015]] bb\n",
      "sseSplit: 66.37, notSplit: 84.26\n",
      "[[ 2.6010415  -3.7680801 ]\n",
      " [ 1.94191316 -2.00175182]]\n",
      "[[ 2.57675883 -3.49127908]\n",
      " [ 2.74946011 -1.85540522]]\n",
      "[[ 2.22523567 -3.55290525]\n",
      " [ 3.21815767 -1.773237  ]]\n",
      "[[ 2.22949562 -3.47648515]\n",
      " [ 3.3353505  -1.67496113]]\n",
      "[[ 2.2728545  -3.41806164]\n",
      " [ 3.406612   -1.53444757]]\n",
      "bb [[2.2728545, -3.418061642857143], [3.4066119999999995, -1.5344475714285717]] bb\n",
      "sseSplit: 39.60, notSplit: 348.39\n",
      "[[-4.60564692 -2.26055593]\n",
      " [-4.76151129 -2.54585264]]\n",
      "[[-3.22716782 -2.502518  ]\n",
      " [-3.96952412 -3.4319155 ]]\n",
      "[[-3.0899224  -2.5341869 ]\n",
      " [-4.039535   -3.29346144]]\n",
      "[[-3.00188209 -2.68858682]\n",
      " [-4.279292   -3.17607087]]\n",
      "[[-3.01599058 -2.76224225]\n",
      " [-4.43759314 -3.119445  ]]\n",
      "bb [[-3.0159905833333336, -2.76224225], [-4.437593142857143, -3.1194449999999994]] bb\n",
      "sseSplit: 12.60, notSplit: 388.44\n",
      "best_cent_to_split: 0\n",
      "len of best_cluster_assment: 40\n",
      "aa [[-2.46154315, 2.7873755500000006], [2.6265298999999995, 3.10868015]] aa\n"
     ]
    }
   ],
   "source": [
    "a,b = clf.bikmeans(data_mat,4)"
   ]
  },
  {
   "cell_type": "code",
   "execution_count": 6,
   "metadata": {},
   "outputs": [
    {
     "name": "stdout",
     "output_type": "stream",
     "text": [
      "[[-122.41192931   45.62827116]\n",
      " [-122.60145427   45.46135164]]\n",
      "[[-122.425553     45.507621  ]\n",
      " [-122.63470743   45.5123756 ]]\n",
      "[[-122.48186875   45.49677212]\n",
      " [-122.65132308   45.51434402]]\n",
      "[[-122.51386069   45.50356513]\n",
      " [-122.66724315   45.51494566]]\n",
      "[[-122.5336717    45.51211152]\n",
      " [-122.68067846   45.51240428]]\n",
      "[[-122.54432282   45.52042118]\n",
      " [-122.69133217   45.5067651 ]]\n",
      "[[-122.54868607   45.51882187]\n",
      " [-122.69551477   45.50729503]]\n",
      "sseSplit: 3043.26, notSplit: 0.00\n",
      "best_cent_to_split: 0\n",
      "len of best_cluster_assment: 69\n",
      "[[-122.57048239   45.45578525]\n",
      " [-122.4057178    45.45980951]]\n",
      "[[-122.56208315   45.52250274]\n",
      " [-122.42811233   45.485694  ]]\n",
      "sseSplit: 511.81, notSplit: 2191.82\n",
      "[[-122.75254567   45.50332155]\n",
      " [-122.73177215   45.46086481]]\n",
      "[[-122.70777076   45.53557164]\n",
      " [-122.67362907   45.45680107]]\n",
      "sseSplit: 1439.77, notSplit: 851.44\n",
      "best_cent_to_split: 1\n",
      "len of best_cluster_assment: 39\n",
      "[[-122.59496775   45.44855118]\n",
      " [-122.42529592   45.47545513]]\n",
      "[[-122.56706156   45.52335936]\n",
      " [-122.4568086    45.4961344 ]]\n",
      "sseSplit: 505.62, notSplit: 1439.77\n",
      "[[-122.76958525   45.53603948]\n",
      " [-122.793648     45.57222464]]\n",
      "[[-122.6997075    45.52510677]\n",
      " [-122.76690133   45.612314  ]]\n",
      "sseSplit: 675.33, notSplit: 1295.50\n",
      "[[-122.65167606   45.46484715]\n",
      " [-122.64367381   45.40491029]]\n",
      "[[-122.6658069   45.4760603]\n",
      " [-122.6931845   45.408653 ]]\n",
      "[[-122.64930363   45.483616  ]\n",
      " [-122.706063     45.42104783]]\n",
      "sseSplit: 210.98, notSplit: 1847.15\n",
      "best_cent_to_split: 0\n",
      "len of best_cluster_assment: 30\n",
      "[[-122.54224094   45.52750746]\n",
      " [-122.54896626   45.51442555]]\n",
      "[[-122.57406138   45.54772485]\n",
      " [-122.55947842   45.49696342]]\n",
      "[[-122.57708425   45.55002175]\n",
      " [-122.55780985   45.49874792]]\n",
      "[[-122.5848452    45.5546092 ]\n",
      " [-122.5552058    45.50252613]]\n",
      "sseSplit: 131.43, notSplit: 1580.76\n",
      "[[-122.8050187    45.53700962]\n",
      " [-122.82841573   45.63071066]]\n",
      "[[-122.6997075    45.52510677]\n",
      " [-122.76690133   45.612314  ]]\n",
      "sseSplit: 675.33, notSplit: 949.68\n",
      "[[-122.73804577   45.46541768]\n",
      " [-122.62294996   45.41564297]]\n",
      "[[-122.69814456   45.45704233]\n",
      " [-122.6295012    45.4563668 ]]\n",
      "[[-122.7365076    45.4329942 ]\n",
      " [-122.63869656   45.47002711]]\n",
      "sseSplit: 202.40, notSplit: 1501.33\n",
      "[[-122.46880914   45.44845167]\n",
      " [-122.46816031   45.50533688]]\n",
      "[[-122.376304     45.430319  ]\n",
      " [-122.47693475   45.51258825]]\n",
      "sseSplit: 24.78, notSplit: 1804.39\n",
      "best_cent_to_split: 1\n",
      "len of best_cluster_assment: 25\n",
      "[[-122.56706156   45.52335936]\n",
      " [-122.6997075    45.52510677]\n",
      " [-122.67362907   45.45680107]\n",
      " [-122.4568086    45.4961344 ]\n",
      " [-122.76690133   45.612314  ]]\n"
     ]
    },
    {
     "data": {
      "image/png": "[encoded data removed]",
      "text/plain": [
       "<matplotlib.figure.Figure at 0x16c987854e0>"
      ]
     },
     "metadata": {},
     "output_type": "display_data"
    }
   ],
   "source": [
    "clf.cluster_clubs()"
   ]
  },
  {
   "cell_type": "code",
   "execution_count": 63,
   "metadata": {
    "collapsed": true
   },
   "outputs": [],
   "source": [
    "a = np.mat([[-122.4009285,   45.46897  ]])"
   ]
  },
  {
   "cell_type": "code",
   "execution_count": 67,
   "metadata": {},
   "outputs": [
    {
     "data": {
      "text/plain": [
       "matrix([[-122.4009285]])"
      ]
     },
     "execution_count": 67,
     "metadata": {},
     "output_type": "execute_result"
    }
   ],
   "source": [
    "a[:,0]"
   ]
  },
  {
   "cell_type": "code",
   "execution_count": 30,
   "metadata": {},
   "outputs": [
    {
     "data": {
      "text/plain": [
       "array([[ 0.30381202],\n",
       "       [ 0.95726193],\n",
       "       [ 0.92594097]])"
      ]
     },
     "execution_count": 30,
     "metadata": {},
     "output_type": "execute_result"
    }
   ],
   "source": [
    "np.random.rand(3,1)"
   ]
  },
  {
   "cell_type": "code",
   "execution_count": 33,
   "metadata": {},
   "outputs": [
    {
     "data": {
      "text/plain": [
       "inf"
      ]
     },
     "execution_count": 33,
     "metadata": {},
     "output_type": "execute_result"
    }
   ],
   "source": [
    "np.inf"
   ]
  },
  {
   "cell_type": "code",
   "execution_count": null,
   "metadata": {
    "collapsed": true
   },
   "outputs": [],
   "source": []
  }
 ],
 "metadata": {
  "kernelspec": {
   "display_name": "Python 3",
   "language": "python",
   "name": "python3"
  },
  "language_info": {
   "codemirror_mode": {
    "name": "ipython",
    "version": 3
   },
   "file_extension": ".py",
   "mimetype": "text/x-python",
   "name": "python",
   "nbconvert_exporter": "python",
   "pygments_lexer": "ipython3",
   "version": "3.6.3"
  }
 },
 "nbformat": 4,
 "nbformat_minor": 2
}
