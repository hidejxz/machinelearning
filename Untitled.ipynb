{
 "cells": [
  {
   "cell_type": "code",
   "execution_count": 1,
   "metadata": {},
   "outputs": [],
   "source": [
    "from numpy import *\n",
    "from Regression import *\n",
    "#import importlib\n",
    "import matplotlib\n",
    "import matplotlib.pyplot as plt\n",
    "#importlib.reload(Regression)"
   ]
  },
  {
   "cell_type": "code",
   "execution_count": 93,
   "metadata": {
    "collapsed": true
   },
   "outputs": [],
   "source": [
    "X, y = load_dataset('ex0.txt')"
   ]
  },
  {
   "cell_type": "code",
   "execution_count": 136,
   "metadata": {},
   "outputs": [],
   "source": [
    "clf = Regression()\n",
    "y_hat1 = clf.lwlr(X,X,y,1)\n",
    "y_hat2 = clf.lwlr(X,X,y,0.01)\n",
    "y_hat3 = clf.lwlr(X,X,y,0.003)"
   ]
  },
  {
   "cell_type": "code",
   "execution_count": 137,
   "metadata": {},
   "outputs": [
    {
     "data": {
      "image/png": "[encoded data removed]",
      "text/plain": [
       "<matplotlib.figure.Figure at 0x114438320>"
      ]
     },
     "metadata": {},
     "output_type": "display_data"
    }
   ],
   "source": [
    "index = mat(X)[:,1].T.A[0].argsort(0)\n",
    "X_sort = mat(X)[:,1].T.A[0][index]\n",
    "y_sort1 = array(y_hat1)[index]\n",
    "y_sort2 = array(y_hat2)[index]\n",
    "y_sort3 = array(y_hat3)[index]\n",
    "fig = plt.figure()\n",
    "ax = fig.add_subplot(111)\n",
    "ax.scatter(mat(X)[:,1].flatten().A[0],mat(y).flatten().A[0])\n",
    "X_mat = mat(X).copy()\n",
    "X_mat.sort(0)\n",
    "ax.plot(X_sort,y_sort1,color = 'orange')\n",
    "ax.plot(X_sort,y_sort2,color = 'red')\n",
    "ax.plot(X_sort,y_sort3,color = 'black')\n",
    "plt.show()"
   ]
  },
  {
   "cell_type": "code",
   "execution_count": 90,
   "metadata": {},
   "outputs": [],
   "source": [
    "x = arange(0.0, 50.0, 2.0)\n",
    "y = x ** 1.3 + random.rand(*x.shape) * 30.0\n",
    "s = random.rand(*x.shape) * 800 + 500"
   ]
  },
  {
   "cell_type": "code",
   "execution_count": 92,
   "metadata": {},
   "outputs": [
    {
     "data": {
      "text/plain": [
       "array([   7.31647579,   30.50082659,   18.42988005,   10.72886071,\n",
       "         17.82026066,   42.29371968,   34.80521973,   60.02782684,\n",
       "         64.37017228,   62.41568724,   72.7423473 ,   75.98893172,\n",
       "         83.43522316,   81.66953735,   79.93225628,  101.77827872,\n",
       "        115.37796858,  127.26847124,  126.10699502,  129.88785173,\n",
       "        143.26861823,  131.55309983,  140.32681429,  167.44549784,\n",
       "        183.08620006])"
      ]
     },
     "execution_count": 92,
     "metadata": {},
     "output_type": "execute_result"
    }
   ],
   "source": [
    "y"
   ]
  },
  {
   "cell_type": "code",
   "execution_count": 28,
   "metadata": {
    "collapsed": true
   },
   "outputs": [],
   "source": [
    "c = mat([[2],[1],[4],[3]])"
   ]
  },
  {
   "cell_type": "code",
   "execution_count": 33,
   "metadata": {},
   "outputs": [
    {
     "data": {
      "text/plain": [
       "matrix([[1],\n",
       "        [2],\n",
       "        [3],\n",
       "        [4]])"
      ]
     },
     "execution_count": 33,
     "metadata": {},
     "output_type": "execute_result"
    }
   ],
   "source": [
    "c[b.argsort(0)][:,0]"
   ]
  },
  {
   "cell_type": "code",
   "execution_count": null,
   "metadata": {
    "collapsed": true
   },
   "outputs": [],
   "source": []
  }
 ],
 "metadata": {
  "kernelspec": {
   "display_name": "Python 3",
   "language": "python",
   "name": "python3"
  },
  "language_info": {
   "codemirror_mode": {
    "name": "ipython",
    "version": 3
   },
   "file_extension": ".py",
   "mimetype": "text/x-python",
   "name": "python",
   "nbconvert_exporter": "python",
   "pygments_lexer": "ipython3",
   "version": "3.6.3"
  }
 },
 "nbformat": 4,
 "nbformat_minor": 2
}
