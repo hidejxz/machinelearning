{
 "cells": [
  {
   "cell_type": "code",
   "execution_count": 1,
   "metadata": {},
   "outputs": [],
   "source": [
    "import SVD as svd\n",
    "import importlib\n",
    "import numpy as np\n",
    "from numpy import linalg as la \n",
    "import matplotlib\n",
    "import matplotlib.pyplot as plt\n",
    "%matplotlib inline\n",
    "importlib.reload(svd)\n",
    "datamat = np.mat(svd.datasimple2())"
   ]
  },
  {
   "cell_type": "code",
   "execution_count": 7,
   "metadata": {},
   "outputs": [
    {
     "name": "stdout",
     "output_type": "stream",
     "text": [
      "Automatic pdb calling has been turned ON\n"
     ]
    }
   ],
   "source": []
  },
  {
   "cell_type": "code",
   "execution_count": 2,
   "metadata": {},
   "outputs": [
    {
     "name": "stdout",
     "output_type": "stream",
     "text": [
      "***** original matrix *****\n",
      "shape: 32 * 32\n",
      "00000000000000110000000000000000\n",
      "00000000000011111100000000000000\n",
      "00000000000111111110000000000000\n",
      "00000000001111111111000000000000\n",
      "00000000111111111111100000000000\n",
      "00000001111111111111110000000000\n",
      "00000000111111111111111000000000\n",
      "00000000111111100001111100000000\n",
      "00000001111111000001111100000000\n",
      "00000011111100000000111100000000\n",
      "00000011111100000000111110000000\n",
      "00000011111100000000011110000000\n",
      "00000011111100000000011110000000\n",
      "00000001111110000000001111000000\n",
      "00000011111110000000001111000000\n",
      "00000011111100000000001111000000\n",
      "00000001111100000000001111000000\n",
      "00000011111100000000001111000000\n",
      "00000001111100000000001111000000\n",
      "00000001111100000000011111000000\n",
      "00000000111110000000001111100000\n",
      "00000000111110000000001111100000\n",
      "00000000111110000000001111100000\n",
      "00000000111110000000011111000000\n",
      "00000000111110000000111111000000\n",
      "00000000111111000001111110000000\n",
      "00000000011111111111111110000000\n",
      "00000000001111111111111110000000\n",
      "00000000001111111111111110000000\n",
      "00000000000111111111111000000000\n",
      "00000000000011111111110000000000\n",
      "00000000000000111111000000000000\n",
      "***** reconstructed matrix using 2 singular values *****\n",
      "shape: 32 * 32\n",
      "00000000000000000000000000000000\n",
      "00000000000000000000000000000000\n",
      "00000000000001111100000000000000\n",
      "00000000000011111111000000000000\n",
      "00000000000111111111100000000000\n",
      "00000000001111111111110000000000\n",
      "00000000001111111111110000000000\n",
      "00000000011110000000001000000000\n",
      "00000000111100000000001100000000\n",
      "00000000111100000000001110000000\n",
      "00000000111100000000001110000000\n",
      "00000000111100000000001110000000\n",
      "00000000111100000000001110000000\n",
      "00000000111100000000001110000000\n",
      "00000000111100000000001110000000\n",
      "00000000111100000000001110000000\n",
      "00000000111100000000001110000000\n",
      "00000000111100000000001110000000\n",
      "00000000111100000000001110000000\n",
      "00000000111100000000001110000000\n",
      "00000000111100000000001110000000\n",
      "00000000111100000000001110000000\n",
      "00000000111100000000001110000000\n",
      "00000000111100000000001110000000\n",
      "00000000111100000000001110000000\n",
      "00000000111100000000001100000000\n",
      "00000000001111111111111000000000\n",
      "00000000001111111111110000000000\n",
      "00000000001111111111110000000000\n",
      "00000000000011111111100000000000\n",
      "00000000000011111111000000000000\n",
      "00000000000000000000000000000000\n"
     ]
    }
   ],
   "source": [
    "svd.img_compress(2)"
   ]
  },
  {
   "cell_type": "code",
   "execution_count": 2,
   "metadata": {},
   "outputs": [
    {
     "data": {
      "text/plain": [
       "[(9, 3.4980035019329834), (2, 3.481735954461191), (8, 3.3802591643479531)]"
      ]
     },
     "execution_count": 2,
     "metadata": {},
     "output_type": "execute_result"
    }
   ],
   "source": [
    "svd.recommend(datamat, 1, est_method=svd.svd_est)"
   ]
  },
  {
   "cell_type": "code",
   "execution_count": 2,
   "metadata": {},
   "outputs": [
    {
     "data": {
      "text/plain": [
       "matrix([[0, 0, 0, 0, 0, 4, 0, 0, 0, 0, 5],\n",
       "        [0, 0, 0, 3, 0, 4, 0, 0, 0, 0, 3],\n",
       "        [0, 0, 0, 0, 4, 0, 0, 1, 0, 4, 0],\n",
       "        [3, 3, 4, 0, 0, 0, 0, 2, 2, 0, 0],\n",
       "        [5, 4, 5, 0, 0, 0, 0, 5, 5, 0, 0],\n",
       "        [0, 0, 0, 0, 5, 0, 1, 0, 0, 5, 0],\n",
       "        [4, 3, 4, 0, 0, 0, 0, 5, 5, 0, 1],\n",
       "        [0, 0, 0, 4, 0, 4, 0, 0, 0, 0, 4],\n",
       "        [0, 0, 0, 2, 0, 2, 5, 0, 0, 1, 2],\n",
       "        [0, 0, 0, 0, 5, 0, 0, 0, 0, 4, 0],\n",
       "        [1, 0, 0, 0, 0, 0, 0, 1, 2, 0, 0]])"
      ]
     },
     "execution_count": 2,
     "metadata": {},
     "output_type": "execute_result"
    }
   ],
   "source": [
    "datamat"
   ]
  },
  {
   "cell_type": "code",
   "execution_count": 3,
   "metadata": {
    "collapsed": true
   },
   "outputs": [],
   "source": [
    "U, Sigma, VT = la.svd(datamat)"
   ]
  },
  {
   "cell_type": "code",
   "execution_count": 4,
   "metadata": {},
   "outputs": [],
   "source": [
    "Sig = np.mat(np.eye(3)*Sigma[:3])\n",
    "xformed_Items = datamat.T * U[:,:3] * Sig.I"
   ]
  },
  {
   "cell_type": "code",
   "execution_count": 5,
   "metadata": {},
   "outputs": [
    {
     "data": {
      "text/plain": [
       "matrix([[-0.45137416,  0.03084799, -0.00290108],\n",
       "        [-0.36239706,  0.02584428, -0.00189127],\n",
       "        [-0.46879252,  0.03296133, -0.00281253],\n",
       "        [-0.01007685, -0.34024331, -0.22728592],\n",
       "        [-0.01567036, -0.38750193,  0.61197998],\n",
       "        [-0.01664563, -0.52000097, -0.3608907 ],\n",
       "        [-0.00474684, -0.18887149, -0.00924222],\n",
       "        [-0.46712774,  0.00389831,  0.03349951],\n",
       "        [-0.47223188,  0.02853952, -0.00504059],\n",
       "        [-0.01591788, -0.39205093,  0.55707516],\n",
       "        [-0.0552444 , -0.52034959, -0.36330956]])"
      ]
     },
     "execution_count": 5,
     "metadata": {},
     "output_type": "execute_result"
    }
   ],
   "source": [
    "xformed_Items"
   ]
  },
  {
   "cell_type": "code",
   "execution_count": 6,
   "metadata": {
    "collapsed": true
   },
   "outputs": [],
   "source": [
    "Sig = np.mat(np.eye(4)*Sigma[:4])"
   ]
  },
  {
   "cell_type": "code",
   "execution_count": 11,
   "metadata": {},
   "outputs": [
    {
     "data": {
      "text/plain": [
       "matrix([[-0.45137416,  0.03084799, -0.00290108,  0.01189185],\n",
       "        [-0.36239706,  0.02584428, -0.00189127,  0.01348796],\n",
       "        [-0.46879252,  0.03296133, -0.00281253,  0.01656192],\n",
       "        [-0.01007685, -0.34024331, -0.22728592,  0.14546051],\n",
       "        [-0.01567036, -0.38750193,  0.61197998, -0.17137451],\n",
       "        [-0.01664563, -0.52000097, -0.3608907 , -0.14984063],\n",
       "        [-0.00474684, -0.18887149, -0.00924222,  0.94228361],\n",
       "        [-0.46712774,  0.00389831,  0.03349951, -0.02080674],\n",
       "        [-0.47223188,  0.02853952, -0.00504059,  0.00160266],\n",
       "        [-0.01591788, -0.39205093,  0.55707516,  0.04356321],\n",
       "        [-0.0552444 , -0.52034959, -0.36330956, -0.19023805]])"
      ]
     },
     "execution_count": 11,
     "metadata": {},
     "output_type": "execute_result"
    }
   ],
   "source": [
    "datamat.T * U[:,:4] * Sig.I"
   ]
  },
  {
   "cell_type": "code",
   "execution_count": 25,
   "metadata": {},
   "outputs": [
    {
     "data": {
      "text/plain": [
       "matrix([[  1.32934665e-03,  -1.15132028e-02,  -1.01235339e-02,\n",
       "           2.11182213e+00,   9.01625452e-02,   3.84910108e+00,\n",
       "          -5.45053105e-01,   6.49324123e-02,   4.22161808e-02,\n",
       "          -4.27318507e-02,   3.93448913e+00],\n",
       "        [ -2.46970530e-02,  -2.91493799e-02,  -3.36869567e-02,\n",
       "           2.21286588e+00,  -3.14287644e-02,   3.69882867e+00,\n",
       "           2.20092167e-01,   1.20227417e-02,   5.96910948e-03,\n",
       "           8.68203703e-03,   3.74800468e+00],\n",
       "        [  1.51821196e-01,   1.18504859e-01,   1.53509372e-01,\n",
       "          -8.22409731e-02,   4.18953694e+00,   9.35352331e-03,\n",
       "           4.61500071e-02,   4.33934323e-01,   1.66787029e-01,\n",
       "           3.83090649e+00,   4.34482195e-02],\n",
       "        [  2.80881524e+00,   2.25594629e+00,   2.91798906e+00,\n",
       "          -5.43594635e-02,  -4.37238657e-02,  -1.14484951e-01,\n",
       "           5.78184155e-02,   2.89426582e+00,   2.93604951e+00,\n",
       "          -2.32279998e-02,   1.20238257e-01],\n",
       "        [  4.86993498e+00,   3.91102051e+00,   5.05884679e+00,\n",
       "          -1.00166318e-01,  -1.03288939e-02,  -1.78431805e-01,\n",
       "           3.40344923e-02,   5.02407498e+00,   5.09148983e+00,\n",
       "           5.37990693e-03,   2.31889288e-01],\n",
       "        [ -6.59561932e-02,  -5.36060622e-02,  -6.98260275e-02,\n",
       "           1.09749218e-01,   5.10569889e+00,  -2.38433390e-02,\n",
       "           1.00440926e+00,   2.49260220e-01,  -6.87352376e-02,\n",
       "           4.86907784e+00,  -4.25052553e-02],\n",
       "        [  4.29540826e+00,   3.44801959e+00,   4.46053724e+00,\n",
       "           1.42089348e-01,   2.89215338e-02,   2.81501421e-01,\n",
       "          -7.20708716e-02,   4.44129706e+00,   4.49592217e+00,\n",
       "           1.67271575e-02,   6.54902011e-01],\n",
       "        [ -2.05794161e-02,  -2.72055365e-02,  -3.05116625e-02,\n",
       "           2.63405575e+00,  -5.06826263e-02,   4.36727503e+00,\n",
       "           3.46208978e-01,   2.03282667e-02,   1.51601725e-02,\n",
       "           1.61613293e-02,   4.42250985e+00],\n",
       "        [  2.14461526e-02,   2.93973327e-02,   3.65977330e-02,\n",
       "           2.34768127e+00,  -9.10314248e-03,   1.98237573e+00,\n",
       "           4.90152157e+00,  -5.83449859e-02,  -6.78982636e-03,\n",
       "           1.02438390e+00,   1.81866488e+00],\n",
       "        [ -6.74976568e-02,  -5.83423395e-02,  -7.51522296e-02,\n",
       "          -1.07001056e-01,   4.71395273e+00,   1.91601870e-02,\n",
       "          -2.92926285e-02,   2.44031896e-01,  -6.07331063e-02,\n",
       "           4.29286696e+00,   4.06489151e-02],\n",
       "        [  8.43599763e-01,   6.77390632e-01,   8.76218787e-01,\n",
       "          -1.79639274e-02,   7.14546393e-03,  -2.32879891e-02,\n",
       "          -1.40696521e-02,   8.71407014e-01,   8.82259856e-01,\n",
       "           4.83517670e-03,   4.87692154e-02]])"
      ]
     },
     "execution_count": 25,
     "metadata": {},
     "output_type": "execute_result"
    }
   ],
   "source": [
    "U[:,:4] * Sig * VT[:4,:]"
   ]
  },
  {
   "cell_type": "code",
   "execution_count": 23,
   "metadata": {},
   "outputs": [
    {
     "data": {
      "text/plain": [
       "matrix([[-0., -0., -0.,  0., -0.,  4.,  0., -0., -0., -0.,  5.],\n",
       "        [ 0., -0.,  0.,  3., -0.,  4.,  0., -0., -0., -0.,  3.],\n",
       "        [ 0.,  0.,  0.,  0.,  4.,  0., -0.,  1., -0.,  4.,  0.],\n",
       "        [ 3.,  3.,  4.,  0.,  0., -0.,  0.,  2.,  2.,  0., -0.],\n",
       "        [ 5.,  4.,  5., -0.,  0.,  0., -0.,  5.,  5.,  0., -0.],\n",
       "        [ 0., -0.,  0.,  0.,  5.,  0.,  1., -0.,  0.,  5.,  0.],\n",
       "        [ 4.,  3.,  4., -0., -0., -0.,  0.,  5.,  5., -0.,  1.],\n",
       "        [ 0., -0.,  0.,  4., -0.,  4.,  0., -0., -0., -0.,  4.],\n",
       "        [-0., -0., -0.,  2., -0.,  2.,  5.,  0.,  0.,  1.,  2.],\n",
       "        [ 0.,  0.,  0.,  0.,  5.,  0.,  0.,  0.,  0.,  4.,  0.],\n",
       "        [ 1., -0., -0., -0.,  0.,  0., -0.,  1.,  2.,  0.,  0.]])"
      ]
     },
     "execution_count": 23,
     "metadata": {},
     "output_type": "execute_result"
    }
   ],
   "source": [
    "(U * np.mat(np.eye(11)*Sigma) * VT).round()"
   ]
  },
  {
   "cell_type": "code",
   "execution_count": 20,
   "metadata": {},
   "outputs": [
    {
     "data": {
      "text/plain": [
       "(11,)"
      ]
     },
     "execution_count": 20,
     "metadata": {},
     "output_type": "execute_result"
    }
   ],
   "source": [
    "np.shape(Sigma)"
   ]
  },
  {
   "cell_type": "code",
   "execution_count": 24,
   "metadata": {},
   "outputs": [
    {
     "data": {
      "text/plain": [
       "matrix([[  1.32934665e-03,  -1.15132028e-02,  -1.01235339e-02,\n",
       "           2.11182213e+00,   9.01625452e-02,   3.84910108e+00,\n",
       "          -5.45053105e-01,   6.49324123e-02,   4.22161808e-02,\n",
       "          -4.27318507e-02,   3.93448913e+00],\n",
       "        [ -2.46970530e-02,  -2.91493799e-02,  -3.36869567e-02,\n",
       "           2.21286588e+00,  -3.14287644e-02,   3.69882867e+00,\n",
       "           2.20092167e-01,   1.20227417e-02,   5.96910948e-03,\n",
       "           8.68203703e-03,   3.74800468e+00],\n",
       "        [  1.51821196e-01,   1.18504859e-01,   1.53509372e-01,\n",
       "          -8.22409731e-02,   4.18953694e+00,   9.35352331e-03,\n",
       "           4.61500071e-02,   4.33934323e-01,   1.66787029e-01,\n",
       "           3.83090649e+00,   4.34482195e-02],\n",
       "        [  2.80881524e+00,   2.25594629e+00,   2.91798906e+00,\n",
       "          -5.43594635e-02,  -4.37238657e-02,  -1.14484951e-01,\n",
       "           5.78184155e-02,   2.89426582e+00,   2.93604951e+00,\n",
       "          -2.32279998e-02,   1.20238257e-01],\n",
       "        [  4.86993498e+00,   3.91102051e+00,   5.05884679e+00,\n",
       "          -1.00166318e-01,  -1.03288939e-02,  -1.78431805e-01,\n",
       "           3.40344923e-02,   5.02407498e+00,   5.09148983e+00,\n",
       "           5.37990693e-03,   2.31889288e-01],\n",
       "        [ -6.59561932e-02,  -5.36060622e-02,  -6.98260275e-02,\n",
       "           1.09749218e-01,   5.10569889e+00,  -2.38433390e-02,\n",
       "           1.00440926e+00,   2.49260220e-01,  -6.87352376e-02,\n",
       "           4.86907784e+00,  -4.25052553e-02],\n",
       "        [  4.29540826e+00,   3.44801959e+00,   4.46053724e+00,\n",
       "           1.42089348e-01,   2.89215338e-02,   2.81501421e-01,\n",
       "          -7.20708716e-02,   4.44129706e+00,   4.49592217e+00,\n",
       "           1.67271575e-02,   6.54902011e-01],\n",
       "        [ -2.05794161e-02,  -2.72055365e-02,  -3.05116625e-02,\n",
       "           2.63405575e+00,  -5.06826263e-02,   4.36727503e+00,\n",
       "           3.46208978e-01,   2.03282667e-02,   1.51601725e-02,\n",
       "           1.61613293e-02,   4.42250985e+00],\n",
       "        [  2.14461526e-02,   2.93973327e-02,   3.65977330e-02,\n",
       "           2.34768127e+00,  -9.10314248e-03,   1.98237573e+00,\n",
       "           4.90152157e+00,  -5.83449859e-02,  -6.78982636e-03,\n",
       "           1.02438390e+00,   1.81866488e+00],\n",
       "        [ -6.74976568e-02,  -5.83423395e-02,  -7.51522296e-02,\n",
       "          -1.07001056e-01,   4.71395273e+00,   1.91601870e-02,\n",
       "          -2.92926285e-02,   2.44031896e-01,  -6.07331063e-02,\n",
       "           4.29286696e+00,   4.06489151e-02],\n",
       "        [  8.43599763e-01,   6.77390632e-01,   8.76218787e-01,\n",
       "          -1.79639274e-02,   7.14546393e-03,  -2.32879891e-02,\n",
       "          -1.40696521e-02,   8.71407014e-01,   8.82259856e-01,\n",
       "           4.83517670e-03,   4.87692154e-02]])"
      ]
     },
     "execution_count": 24,
     "metadata": {},
     "output_type": "execute_result"
    }
   ],
   "source": [
    "U[:,:4] * Sig * VT[:4,:]"
   ]
  },
  {
   "cell_type": "code",
   "execution_count": 13,
   "metadata": {},
   "outputs": [
    {
     "data": {
      "text/plain": [
       "matrix([[ 15.77075346,   0.        ,   0.        ,   0.        ],\n",
       "        [  0.        ,  11.40670395,   0.        ,   0.        ],\n",
       "        [  0.        ,   0.        ,  11.03044558,   0.        ],\n",
       "        [  0.        ,   0.        ,   0.        ,   4.84639758]])"
      ]
     },
     "execution_count": 13,
     "metadata": {},
     "output_type": "execute_result"
    }
   ],
   "source": [
    "Sig"
   ]
  },
  {
   "cell_type": "code",
   "execution_count": 7,
   "metadata": {
    "collapsed": true
   },
   "outputs": [],
   "source": [
    "L = [v**2/sum(Sigma**2) for v in Sigma]"
   ]
  },
  {
   "cell_type": "code",
   "execution_count": 17,
   "metadata": {},
   "outputs": [
    {
     "data": {
      "text/plain": [
       "[0.45888683501389627,\n",
       " 0.69894752677372385,\n",
       " 0.92343226776306242,\n",
       " 0.9667672668592977,\n",
       " 0.98441700404795673,\n",
       " 0.99670745737791988,\n",
       " 0.99856776726083307,\n",
       " 0.99954605618649339,\n",
       " 0.99990001761094538,\n",
       " 0.99998998435174269,\n",
       " 1.0000000000000002]"
      ]
     },
     "execution_count": 17,
     "metadata": {},
     "output_type": "execute_result"
    }
   ],
   "source": [
    "[sum(L[:a+1]) for a,b in enumerate(L)]"
   ]
  },
  {
   "cell_type": "code",
   "execution_count": 11,
   "metadata": {},
   "outputs": [
    {
     "ename": "NameError",
     "evalue": "name 'enumarate' is not defined",
     "output_type": "error",
     "traceback": [
      "\u001b[0;31m---------------------------------------------------------------------------\u001b[0m",
      "\u001b[0;31mNameError\u001b[0m                                 Traceback (most recent call last)",
      "\u001b[0;32m<ipython-input-11-44178fed3d7b>\u001b[0m in \u001b[0;36m<module>\u001b[0;34m()\u001b[0m\n\u001b[0;32m----> 1\u001b[0;31m \u001b[0menumarate\u001b[0m\u001b[0;34m(\u001b[0m\u001b[0mL\u001b[0m\u001b[0;34m)\u001b[0m\u001b[0;34m\u001b[0m\u001b[0m\n\u001b[0m",
      "\u001b[0;31mNameError\u001b[0m: name 'enumarate' is not defined"
     ]
    }
   ],
   "source": [
    "enumarate(L)"
   ]
  },
  {
   "cell_type": "code",
   "execution_count": 2,
   "metadata": {},
   "outputs": [
    {
     "data": {
      "text/plain": [
       "[(2, 2.5), (1, 2.0243290220056256)]"
      ]
     },
     "execution_count": 2,
     "metadata": {},
     "output_type": "execute_result"
    }
   ],
   "source": [
    "svd.recommend(datamat, 2)"
   ]
  },
  {
   "cell_type": "code",
   "execution_count": 2,
   "metadata": {},
   "outputs": [
    {
     "name": "stdout",
     "output_type": "stream",
     "text": [
      "j:  0\n",
      "overlap:  [0 3 4 5 6]\n",
      "j:  1\n",
      "j:  2\n",
      "j:  3\n",
      "overlap:  [0 3]\n",
      "j:  4\n",
      "overlap:  [0]\n"
     ]
    },
    {
     "data": {
      "text/plain": [
       "2.8266504712098603"
      ]
     },
     "execution_count": 2,
     "metadata": {},
     "output_type": "execute_result"
    }
   ],
   "source": [
    "svd.stand_est(datamat, 2, svd.eclud_sim, 1)"
   ]
  },
  {
   "cell_type": "code",
   "execution_count": null,
   "metadata": {
    "collapsed": true
   },
   "outputs": [],
   "source": []
  },
  {
   "cell_type": "code",
   "execution_count": 13,
   "metadata": {},
   "outputs": [
    {
     "data": {
      "text/plain": [
       "-0.52462761184808371"
      ]
     },
     "execution_count": 13,
     "metadata": {},
     "output_type": "execute_result"
    }
   ],
   "source": [
    "np.corrcoef(datamat[:,0],datamat[:,4],rowvar=0)[0][1]"
   ]
  },
  {
   "cell_type": "code",
   "execution_count": 8,
   "metadata": {},
   "outputs": [
    {
     "data": {
      "text/plain": [
       "0.23768619407595815"
      ]
     },
     "execution_count": 8,
     "metadata": {},
     "output_type": "execute_result"
    }
   ],
   "source": [
    "svd.pears_sim(datamat[:,0],datamat[:,4])"
   ]
  },
  {
   "cell_type": "code",
   "execution_count": 17,
   "metadata": {},
   "outputs": [
    {
     "data": {
      "text/plain": [
       "1.771852237252862"
      ]
     },
     "execution_count": 17,
     "metadata": {},
     "output_type": "execute_result"
    }
   ],
   "source": [
    "np.var(datamat[:,0]-datamat[:,4])/(np.var(datamat[:,0])*np.var(datamat[:,4]))"
   ]
  },
  {
   "cell_type": "code",
   "execution_count": 19,
   "metadata": {
    "collapsed": true
   },
   "outputs": [],
   "source": [
    "t1 = (datamat[:,0]-np.mean(datamat[:,0])).T*\\\n",
    "    (datamat[:,4]-np.mean(datamat[:,4]))"
   ]
  },
  {
   "cell_type": "code",
   "execution_count": 26,
   "metadata": {
    "collapsed": true
   },
   "outputs": [],
   "source": [
    "t2 = np.sqrt(np.var(datamat[:,0])*len(datamat[:,0]))*\\\n",
    "np.sqrt(np.var(datamat[:,4])*len(datamat[:,4]))"
   ]
  },
  {
   "cell_type": "code",
   "execution_count": 27,
   "metadata": {},
   "outputs": [
    {
     "data": {
      "text/plain": [
       "12.525891552447414"
      ]
     },
     "execution_count": 27,
     "metadata": {},
     "output_type": "execute_result"
    }
   ],
   "source": [
    "t2"
   ]
  },
  {
   "cell_type": "code",
   "execution_count": 28,
   "metadata": {},
   "outputs": [
    {
     "data": {
      "text/plain": [
       "matrix([[-0.52462761]])"
      ]
     },
     "execution_count": 28,
     "metadata": {},
     "output_type": "execute_result"
    }
   ],
   "source": [
    "t1/t2"
   ]
  },
  {
   "cell_type": "code",
   "execution_count": 4,
   "metadata": {},
   "outputs": [
    {
     "data": {
      "text/plain": [
       "5.6568542494923806"
      ]
     },
     "execution_count": 4,
     "metadata": {},
     "output_type": "execute_result"
    }
   ],
   "source": [
    "la.norm(datamat[:,0].T)"
   ]
  },
  {
   "cell_type": "code",
   "execution_count": 23,
   "metadata": {
    "collapsed": true
   },
   "outputs": [],
   "source": [
    "new_mat, recon_mat = pca.pca(datamat,1)"
   ]
  },
  {
   "cell_type": "code",
   "execution_count": 24,
   "metadata": {},
   "outputs": [
    {
     "data": {
      "text/plain": [
       "<matplotlib.collections.PathCollection at 0x1170a37b8>"
      ]
     },
     "execution_count": 24,
     "metadata": {},
     "output_type": "execute_result"
    },
    {
     "data": {
      "image/png": "[encoded data removed]",
      "text/plain": [
       "<matplotlib.figure.Figure at 0x117062ef0>"
      ]
     },
     "metadata": {},
     "output_type": "display_data"
    }
   ],
   "source": [
    "fig = plt.figure()\n",
    "ax = fig.add_subplot(111)\n",
    "ax.scatter(datamat[:,0].flatten().A[0],datamat[:,1].flatten().A[0], \n",
    "           marker = '^', s = 90)\n",
    "ax.scatter(recon_mat[:,0].flatten().A[0],recon_mat[:,1].flatten().A[0], \n",
    "           marker = 'o', s = 50, c = 'red')"
   ]
  },
  {
   "cell_type": "code",
   "execution_count": 48,
   "metadata": {},
   "outputs": [
    {
     "data": {
      "text/plain": [
       "matrix([[ 11.23955536],\n",
       "        [ 11.54594665],\n",
       "        [  9.01282393],\n",
       "        [  9.75160448],\n",
       "        [  8.21892524],\n",
       "        [ 10.32909909],\n",
       "        [ 10.95202257],\n",
       "        [  9.75691276],\n",
       "        [ 10.03514103],\n",
       "        [ 10.54997343],\n",
       "        [  9.55676653],\n",
       "        [  9.87780137],\n",
       "        [ 11.16813469],\n",
       "        [  6.58886337],\n",
       "        [  8.76067706],\n",
       "        [  6.88266786],\n",
       "        [  8.67210029],\n",
       "        [ 10.39451356],\n",
       "        [  8.98886354],\n",
       "        [  7.88479063],\n",
       "        [  8.59228942],\n",
       "        [  8.52423548],\n",
       "        [  8.81808965],\n",
       "        [  8.08147442],\n",
       "        [  7.3216943 ],\n",
       "        [  8.81854   ],\n",
       "        [  6.18329573],\n",
       "        [  7.45439768],\n",
       "        [  9.65768165],\n",
       "        [  9.40070148],\n",
       "        [  9.04713911],\n",
       "        [  8.12731381],\n",
       "        [  9.30708076],\n",
       "        [  8.11677595],\n",
       "        [  7.70839573],\n",
       "        [ 10.90188878],\n",
       "        [  7.71045778],\n",
       "        [  7.75781756],\n",
       "        [  7.31880808],\n",
       "        [ 10.69489931],\n",
       "        [  9.31726466],\n",
       "        [  6.29904589],\n",
       "        [  9.54269401],\n",
       "        [  9.17710894],\n",
       "        [  7.07939137],\n",
       "        [ 11.18441253],\n",
       "        [  8.46553065],\n",
       "        [  8.70560156],\n",
       "        [ 10.30596455],\n",
       "        [  9.55081514],\n",
       "        [  8.22262034],\n",
       "        [ 10.05983547],\n",
       "        [  9.7050067 ],\n",
       "        [ 11.98750278],\n",
       "        [  9.06553443],\n",
       "        [  8.04295149],\n",
       "        [  8.93226401],\n",
       "        [  7.61104704],\n",
       "        [  9.35509274],\n",
       "        [  5.87130684],\n",
       "        [  9.59243308],\n",
       "        [  9.08063289],\n",
       "        [  9.41996439],\n",
       "        [ 11.09694889],\n",
       "        [ 11.47859968],\n",
       "        [  9.72999809],\n",
       "        [  8.81184267],\n",
       "        [ 10.58111938],\n",
       "        [  9.37264484],\n",
       "        [  7.49386057],\n",
       "        [  8.12597594],\n",
       "        [  5.92104954],\n",
       "        [  8.84086351],\n",
       "        [  9.27964767],\n",
       "        [  7.50614961],\n",
       "        [  8.32430499],\n",
       "        [  8.50532389],\n",
       "        [ 10.3772425 ],\n",
       "        [  9.99683531],\n",
       "        [  8.65224432],\n",
       "        [  8.44453548],\n",
       "        [  7.26817993],\n",
       "        [ 11.49919305],\n",
       "        [  7.07786205],\n",
       "        [  7.7604996 ],\n",
       "        [  8.80647134],\n",
       "        [ 11.6718325 ],\n",
       "        [  8.20123069],\n",
       "        [  9.7728417 ],\n",
       "        [ 10.33393972],\n",
       "        [  7.2230399 ],\n",
       "        [  9.04145964],\n",
       "        [ 11.68807712],\n",
       "        [  8.60052427],\n",
       "        [  9.97802609],\n",
       "        [  9.44290661],\n",
       "        [  9.75495432],\n",
       "        [ 10.0173877 ],\n",
       "        [  9.17773748],\n",
       "        [ 10.60214351],\n",
       "        [  9.2953608 ],\n",
       "        [ 11.33175509],\n",
       "        [ 10.26002795],\n",
       "        [  9.86827601],\n",
       "        [  7.22141841],\n",
       "        [  6.33198447],\n",
       "        [ 10.09919269],\n",
       "        [  7.14825115],\n",
       "        [  8.68167567],\n",
       "        [  9.39735269],\n",
       "        [ 10.06040521],\n",
       "        [  9.31676189],\n",
       "        [ 10.38847185],\n",
       "        [  6.75440432],\n",
       "        [  8.28928375],\n",
       "        [ 10.77642787],\n",
       "        [  7.3520004 ],\n",
       "        [  6.58186861],\n",
       "        [  9.65276611],\n",
       "        [  9.0059194 ],\n",
       "        [  7.09014423],\n",
       "        [  8.55370919],\n",
       "        [  9.02587779],\n",
       "        [ 10.16356285],\n",
       "        [  7.78383587],\n",
       "        [ 10.48269403],\n",
       "        [  7.84100187],\n",
       "        [ 10.64827051],\n",
       "        [ 10.18341832],\n",
       "        [ 10.33476411],\n",
       "        [  8.00030152],\n",
       "        [  8.42303362],\n",
       "        [  8.00145418],\n",
       "        [  8.9836995 ],\n",
       "        [  7.6056863 ],\n",
       "        [ 10.09134951],\n",
       "        [  9.39223942],\n",
       "        [  8.81007386],\n",
       "        [  9.51356963],\n",
       "        [  8.28122402],\n",
       "        [ 10.78561609],\n",
       "        [  7.6239468 ],\n",
       "        [ 10.4103496 ],\n",
       "        [  8.80666374],\n",
       "        [  7.40035997],\n",
       "        [ 10.04090545],\n",
       "        [ 10.99585079],\n",
       "        [  9.29099998],\n",
       "        [  9.36174203],\n",
       "        [  8.3449936 ],\n",
       "        [  8.79432069],\n",
       "        [  9.80086693],\n",
       "        [  7.72904901],\n",
       "        [ 11.4029157 ],\n",
       "        [  8.22193971],\n",
       "        [  8.38808272],\n",
       "        [  8.95699378],\n",
       "        [  5.71278418],\n",
       "        [  8.84828442],\n",
       "        [ 11.10534748],\n",
       "        [  8.44213318],\n",
       "        [  8.65805413],\n",
       "        [  5.04942899],\n",
       "        [ 11.12807395],\n",
       "        [  5.87321642],\n",
       "        [  9.73572155],\n",
       "        [  9.52439628],\n",
       "        [ 10.8494374 ],\n",
       "        [ 10.40202347],\n",
       "        [  7.7345555 ],\n",
       "        [  7.49038947],\n",
       "        [  8.01338294],\n",
       "        [  8.20018497],\n",
       "        [  8.68062058],\n",
       "        [  9.8450942 ],\n",
       "        [ 11.05362541],\n",
       "        [  8.60751017],\n",
       "        [  7.8343538 ],\n",
       "        [  9.98209021],\n",
       "        [  8.68386351],\n",
       "        [  9.71277006],\n",
       "        [  9.84484678],\n",
       "        [ 11.13919052],\n",
       "        [  6.18682809],\n",
       "        [  8.20318487],\n",
       "        [  8.81615803],\n",
       "        [  6.92882848],\n",
       "        [ 10.39030669],\n",
       "        [ 10.38877789],\n",
       "        [  7.42800432],\n",
       "        [  8.71856384],\n",
       "        [  6.60915824],\n",
       "        [  9.47232421],\n",
       "        [  7.48154993],\n",
       "        [  8.18652182],\n",
       "        [ 11.6881562 ],\n",
       "        [  8.51359156],\n",
       "        [  8.57038414],\n",
       "        [ 10.18276814],\n",
       "        [  6.81923599],\n",
       "        [  9.66769985],\n",
       "        [  9.60016281],\n",
       "        [  9.66509844],\n",
       "        [  8.91605332],\n",
       "        [ 10.99096032],\n",
       "        [  7.9852273 ],\n",
       "        [ 10.46198903],\n",
       "        [  9.88454627],\n",
       "        [  7.40943482],\n",
       "        [ 10.33355433],\n",
       "        [  8.2765217 ],\n",
       "        [ 11.292551  ],\n",
       "        [  6.34782425],\n",
       "        [  9.71912589],\n",
       "        [ 10.44008076],\n",
       "        [  8.58818582],\n",
       "        [  9.84346459],\n",
       "        [  9.16896082],\n",
       "        [  8.52550055],\n",
       "        [  7.40092724],\n",
       "        [  8.25838557],\n",
       "        [  9.22972177],\n",
       "        [  7.97331905],\n",
       "        [  8.22453837],\n",
       "        [  8.81356356],\n",
       "        [  9.96135911],\n",
       "        [ 10.63541728],\n",
       "        [  9.99558715],\n",
       "        [ 10.04622837],\n",
       "        [  6.82997427],\n",
       "        [  7.57753186],\n",
       "        [  8.26861492],\n",
       "        [  7.94637937],\n",
       "        [ 10.6718563 ],\n",
       "        [  9.4552576 ],\n",
       "        [  8.52502961],\n",
       "        [  8.25620807],\n",
       "        [  8.8120648 ],\n",
       "        [  9.99296432],\n",
       "        [  7.21776149],\n",
       "        [  9.29792472],\n",
       "        [  9.51716408],\n",
       "        [  9.72635694],\n",
       "        [ 12.95400918],\n",
       "        [ 11.91975026],\n",
       "        [  9.9315045 ],\n",
       "        [  8.82019774],\n",
       "        [ 10.93724338],\n",
       "        [  8.34460728],\n",
       "        [  6.37606097],\n",
       "        [  8.16757546],\n",
       "        [  8.4490169 ],\n",
       "        [  8.15588172],\n",
       "        [ 12.26491618],\n",
       "        [ 11.12801174],\n",
       "        [ 10.41897761],\n",
       "        [  9.57894768],\n",
       "        [ 10.15114808],\n",
       "        [ 10.31089152],\n",
       "        [ 10.30740097],\n",
       "        [  8.08109277],\n",
       "        [ 11.49970902],\n",
       "        [  9.56643219],\n",
       "        [  8.9272188 ],\n",
       "        [  8.88662921],\n",
       "        [  7.80125451],\n",
       "        [  9.50161299],\n",
       "        [ 10.25714862],\n",
       "        [ 12.43116986],\n",
       "        [ 10.57776086],\n",
       "        [  7.60488895],\n",
       "        [  9.24620059],\n",
       "        [ 11.43937249],\n",
       "        [ 10.09927084],\n",
       "        [  9.83857563],\n",
       "        [ 11.7923    ],\n",
       "        [  9.4395028 ],\n",
       "        [  9.50070474],\n",
       "        [ 11.33616605],\n",
       "        [  8.36435787],\n",
       "        [  9.45744889],\n",
       "        [ 10.7405621 ],\n",
       "        [ 10.63953121],\n",
       "        [  9.42511931],\n",
       "        [  7.52148217],\n",
       "        [  8.16928118],\n",
       "        [  8.29196898],\n",
       "        [  8.09934855],\n",
       "        [  8.83911346],\n",
       "        [  8.83796342],\n",
       "        [  9.72386818],\n",
       "        [  9.20344262],\n",
       "        [ 10.24532883],\n",
       "        [ 10.01131216],\n",
       "        [  7.53720996],\n",
       "        [  8.48234747],\n",
       "        [  7.95607676],\n",
       "        [  9.93099012],\n",
       "        [  9.56661113],\n",
       "        [  7.72773617],\n",
       "        [  9.16163236],\n",
       "        [ 11.04489964],\n",
       "        [  8.64735757],\n",
       "        [ 10.36070399],\n",
       "        [  8.86364107],\n",
       "        [ 12.24818027],\n",
       "        [  7.16288618],\n",
       "        [  5.05152396],\n",
       "        [  7.77534828],\n",
       "        [  9.46125379],\n",
       "        [  8.47580874],\n",
       "        [  8.60116793],\n",
       "        [  8.65208864],\n",
       "        [  9.03882289],\n",
       "        [ 10.04332477],\n",
       "        [  9.41898659],\n",
       "        [  6.99512229],\n",
       "        [  9.51484229],\n",
       "        [ 10.85538546],\n",
       "        [  5.44660972],\n",
       "        [  9.42905696],\n",
       "        [  8.11310197],\n",
       "        [  9.07949395],\n",
       "        [  7.70432985],\n",
       "        [  8.68898724],\n",
       "        [ 10.05742618],\n",
       "        [  9.29323641],\n",
       "        [ 11.0614263 ],\n",
       "        [  7.14543788],\n",
       "        [  7.84178928],\n",
       "        [  6.20475787],\n",
       "        [  8.30767696],\n",
       "        [  7.62895442],\n",
       "        [  9.63429664],\n",
       "        [  7.24737282],\n",
       "        [  5.22824411],\n",
       "        [  6.44820202],\n",
       "        [  8.4622381 ],\n",
       "        [ 10.97868318],\n",
       "        [ 10.52742555],\n",
       "        [ 10.11473756],\n",
       "        [  9.91610434],\n",
       "        [  6.70803215],\n",
       "        [  9.18979214],\n",
       "        [ 10.6439547 ],\n",
       "        [  8.53326935],\n",
       "        [  9.85970748],\n",
       "        [  9.57955161],\n",
       "        [  9.67571695],\n",
       "        [  7.60625948],\n",
       "        [  9.89298989],\n",
       "        [  8.54339296],\n",
       "        [  8.6368501 ],\n",
       "        [  8.68995189],\n",
       "        [ 11.40344417],\n",
       "        [  8.79944196],\n",
       "        [  7.70918202],\n",
       "        [  7.93339084],\n",
       "        [  9.20515279],\n",
       "        [  8.73130004],\n",
       "        [ 10.19529677],\n",
       "        [  6.69980653],\n",
       "        [ 10.50965678],\n",
       "        [  6.60035595],\n",
       "        [  9.45496993],\n",
       "        [  8.37350106],\n",
       "        [ 10.78153033],\n",
       "        [  7.14391233],\n",
       "        [  8.14127949],\n",
       "        [ 10.39065739],\n",
       "        [ 10.09111048],\n",
       "        [ 10.27660854],\n",
       "        [  8.46838588],\n",
       "        [  9.61615395],\n",
       "        [ 10.86905186],\n",
       "        [  9.21120917],\n",
       "        [  8.25108219],\n",
       "        [ 10.02756208],\n",
       "        [ 12.10783658],\n",
       "        [  9.21718926],\n",
       "        [ 10.99442471],\n",
       "        [ 12.13787564],\n",
       "        [ 10.37411954],\n",
       "        [  8.21802342],\n",
       "        [  8.95187486],\n",
       "        [  8.94946216],\n",
       "        [  7.57632336],\n",
       "        [  9.5837838 ],\n",
       "        [  9.49246372],\n",
       "        [  9.3907051 ],\n",
       "        [ 10.04549967],\n",
       "        [  9.05687969],\n",
       "        [  8.22025478],\n",
       "        [  8.72989583],\n",
       "        [ 10.63809978],\n",
       "        [  7.93935618],\n",
       "        [  7.21493686],\n",
       "        [  9.70351285],\n",
       "        [  8.44452003],\n",
       "        [ 10.25370716],\n",
       "        [  9.4950921 ],\n",
       "        [ 10.3557468 ],\n",
       "        [ 10.05780115],\n",
       "        [  5.98584327],\n",
       "        [  8.75335997],\n",
       "        [  9.14007094],\n",
       "        [  4.33462386],\n",
       "        [ 10.07647601],\n",
       "        [  8.95051041],\n",
       "        [  7.48012453],\n",
       "        [  7.6068137 ],\n",
       "        [  9.60224968],\n",
       "        [  7.60296473],\n",
       "        [  7.57350836],\n",
       "        [  6.75900057],\n",
       "        [ 13.74674812],\n",
       "        [ 11.10210957],\n",
       "        [  8.13887904],\n",
       "        [  4.72038141],\n",
       "        [  6.4721575 ],\n",
       "        [ 10.19645762],\n",
       "        [  9.00831377],\n",
       "        [  9.82567451],\n",
       "        [ 12.6647565 ],\n",
       "        [  9.30010824],\n",
       "        [  9.59561627],\n",
       "        [  6.8563913 ],\n",
       "        [  8.22021917],\n",
       "        [  6.61142989],\n",
       "        [  8.14474545],\n",
       "        [ 12.41322372],\n",
       "        [  8.78548627],\n",
       "        [  9.90125833],\n",
       "        [  7.04420318],\n",
       "        [ 11.05409715],\n",
       "        [  8.62921695],\n",
       "        [ 10.79146741],\n",
       "        [  7.05974242],\n",
       "        [  7.90399476],\n",
       "        [  9.26874748],\n",
       "        [ 13.50877713],\n",
       "        [ 10.70754299],\n",
       "        [  9.50321407],\n",
       "        [  8.85862553],\n",
       "        [  8.69958154],\n",
       "        [ 10.59661192],\n",
       "        [  9.13208546],\n",
       "        [  7.81700359],\n",
       "        [  8.22692189],\n",
       "        [  6.50669653],\n",
       "        [  7.52607095],\n",
       "        [ 10.00968026],\n",
       "        [ 11.33315647],\n",
       "        [ 10.89703939],\n",
       "        [ 11.04506584],\n",
       "        [  6.3291811 ],\n",
       "        [  8.41617097],\n",
       "        [  7.75516577],\n",
       "        [  6.65239323],\n",
       "        [  9.13343543],\n",
       "        [  9.06977296],\n",
       "        [  7.5515287 ],\n",
       "        [  9.98653076],\n",
       "        [  8.75614812],\n",
       "        [  7.78925483],\n",
       "        [ 10.65161915],\n",
       "        [  8.21133345],\n",
       "        [ 11.38059829],\n",
       "        [  8.39732489],\n",
       "        [  7.42180887],\n",
       "        [  9.11871534],\n",
       "        [  8.41544303],\n",
       "        [  9.39031932],\n",
       "        [  9.13549982],\n",
       "        [  9.80140942],\n",
       "        [  7.64070975],\n",
       "        [  8.74475561],\n",
       "        [  8.56370151],\n",
       "        [  6.78723521],\n",
       "        [  6.96289031],\n",
       "        [ 11.738972  ],\n",
       "        [ 10.95311521],\n",
       "        [  7.38374549],\n",
       "        [  7.96056104],\n",
       "        [  6.38357263],\n",
       "        [  8.01397912],\n",
       "        [  8.03789226],\n",
       "        [  8.51948974],\n",
       "        [ 10.54457434],\n",
       "        [  5.48631714],\n",
       "        [  7.64408572],\n",
       "        [ 11.43214626],\n",
       "        [  9.39000523],\n",
       "        [  8.27366252],\n",
       "        [ 10.29514146],\n",
       "        [  8.24342901],\n",
       "        [  9.62366529],\n",
       "        [  8.89379637],\n",
       "        [  8.28563514],\n",
       "        [  9.3680349 ],\n",
       "        [  8.47434136],\n",
       "        [ 10.8885777 ],\n",
       "        [  9.36873393],\n",
       "        [  9.18674888],\n",
       "        [  8.65723466],\n",
       "        [ 10.63904155],\n",
       "        [  9.62154799],\n",
       "        [  8.77904213],\n",
       "        [  9.82193938],\n",
       "        [  8.97276973],\n",
       "        [  9.68379344],\n",
       "        [  9.03387709],\n",
       "        [  8.64737872],\n",
       "        [  7.3103321 ],\n",
       "        [  9.49402095],\n",
       "        [  9.22247415],\n",
       "        [  8.15380842],\n",
       "        [  8.31647365],\n",
       "        [  8.8917856 ],\n",
       "        [ 10.38814834],\n",
       "        [  8.73703952],\n",
       "        [  7.91715903],\n",
       "        [ 12.03594074],\n",
       "        [ 10.27579579],\n",
       "        [  9.55295904],\n",
       "        [  8.08214675],\n",
       "        [  9.67322188],\n",
       "        [  9.11596294],\n",
       "        [  7.59498235],\n",
       "        [  7.91130349],\n",
       "        [  7.66208527],\n",
       "        [  9.82623071],\n",
       "        [  8.2073435 ],\n",
       "        [  9.36366275],\n",
       "        [  9.52059082],\n",
       "        [  8.90016608],\n",
       "        [ 10.55932533],\n",
       "        [  9.81613776],\n",
       "        [  9.9395207 ],\n",
       "        [  9.58681039],\n",
       "        [  9.34825428],\n",
       "        [  9.97871757],\n",
       "        [  8.14124982],\n",
       "        [  8.11666129],\n",
       "        [  8.80236261],\n",
       "        [  8.2876048 ],\n",
       "        [  8.05359168],\n",
       "        [ 10.1626151 ],\n",
       "        [  8.54276446],\n",
       "        [  8.92994611],\n",
       "        [  8.02089161],\n",
       "        [  9.16603952],\n",
       "        [  6.19505078],\n",
       "        [ 10.96972925],\n",
       "        [ 10.28042213],\n",
       "        [  7.94282127],\n",
       "        [ 10.48924426],\n",
       "        [  6.70643086],\n",
       "        [ 10.29448864],\n",
       "        [  8.85608963],\n",
       "        [  8.1556865 ],\n",
       "        [ 11.01617144],\n",
       "        [  8.50822692],\n",
       "        [  8.85609004],\n",
       "        [  8.72142314],\n",
       "        [  8.76895906],\n",
       "        [  8.61249235],\n",
       "        [  9.15484932],\n",
       "        [  7.60833905],\n",
       "        [  9.17823942],\n",
       "        [  9.55961398],\n",
       "        [  8.25681265],\n",
       "        [ 10.0952086 ],\n",
       "        [  7.56421004],\n",
       "        [ 10.18303586],\n",
       "        [  9.86871653],\n",
       "        [  9.06158801],\n",
       "        [  8.94145423],\n",
       "        [  9.0035909 ],\n",
       "        [ 10.19542161],\n",
       "        [  9.60576441],\n",
       "        [  9.94572216],\n",
       "        [ 10.61414006],\n",
       "        [  7.81145181],\n",
       "        [ 10.49029252],\n",
       "        [  8.71526984],\n",
       "        [  7.69471268],\n",
       "        [  8.99076673],\n",
       "        [  7.02852864],\n",
       "        [ 10.45153932],\n",
       "        [  9.83597825],\n",
       "        [ 11.02519029],\n",
       "        [  9.82102398],\n",
       "        [  8.59325563],\n",
       "        [  8.32251743],\n",
       "        [  9.44719645],\n",
       "        [  9.62525557],\n",
       "        [  9.27336961],\n",
       "        [ 12.01335814],\n",
       "        [  9.70924395],\n",
       "        [  9.89846324],\n",
       "        [  9.44358619],\n",
       "        [  6.23832362],\n",
       "        [  8.4789689 ],\n",
       "        [  8.20631888],\n",
       "        [ 10.71623787],\n",
       "        [  8.0199254 ],\n",
       "        [ 10.31717359],\n",
       "        [  8.8943878 ],\n",
       "        [  7.85994462],\n",
       "        [ 12.23112544],\n",
       "        [  8.874795  ],\n",
       "        [  7.28172736],\n",
       "        [ 13.42646943],\n",
       "        [  7.09105832],\n",
       "        [  9.25562536],\n",
       "        [  8.47710198],\n",
       "        [ 10.8558715 ],\n",
       "        [ 11.03874566],\n",
       "        [  8.17798031],\n",
       "        [  9.44581627],\n",
       "        [  8.65042287],\n",
       "        [ 10.63717236],\n",
       "        [ 11.32321909],\n",
       "        [  7.24631727],\n",
       "        [  8.72145256],\n",
       "        [ 10.64014953],\n",
       "        [  8.77750799],\n",
       "        [  8.27293538],\n",
       "        [ 11.07570186],\n",
       "        [ 10.2179569 ],\n",
       "        [  7.36084357],\n",
       "        [ 12.57106285],\n",
       "        [ 10.54871419],\n",
       "        [  7.6251401 ],\n",
       "        [  8.69881802],\n",
       "        [ 11.16526038],\n",
       "        [  9.49924228],\n",
       "        [  9.61556782],\n",
       "        [ 11.11150283],\n",
       "        [  9.37314508],\n",
       "        [  8.3904749 ],\n",
       "        [  9.41706447],\n",
       "        [  9.37494025],\n",
       "        [  9.54208003],\n",
       "        [  9.7863739 ],\n",
       "        [  6.43763403],\n",
       "        [ 10.66742668],\n",
       "        [  7.39359982],\n",
       "        [ 11.41908039],\n",
       "        [ 11.15352904],\n",
       "        [  6.95713329],\n",
       "        [  8.62863704],\n",
       "        [  7.06263421],\n",
       "        [  8.16622   ],\n",
       "        [ 12.12683674],\n",
       "        [  6.29648318],\n",
       "        [  7.59149949],\n",
       "        [ 11.09263739],\n",
       "        [  6.88256584],\n",
       "        [  7.51044765],\n",
       "        [  8.34133188],\n",
       "        [  9.09711055],\n",
       "        [  6.71277617],\n",
       "        [  7.7208157 ],\n",
       "        [  8.53702395],\n",
       "        [  8.26107787],\n",
       "        [  6.52805588],\n",
       "        [ 10.36464793],\n",
       "        [  9.34876472],\n",
       "        [  7.73261422],\n",
       "        [  8.36914118],\n",
       "        [  8.7997005 ],\n",
       "        [  8.57847491],\n",
       "        [ 10.28755549],\n",
       "        [ 10.21816223],\n",
       "        [  9.11014204],\n",
       "        [  8.9313703 ],\n",
       "        [  7.29223819],\n",
       "        [  8.35798371],\n",
       "        [  7.53557907],\n",
       "        [  9.88815081],\n",
       "        [  8.61334905],\n",
       "        [  9.85470364],\n",
       "        [  9.48188581],\n",
       "        [  8.41905762],\n",
       "        [  9.33735147],\n",
       "        [  9.72518752],\n",
       "        [  9.05541993],\n",
       "        [  9.9692179 ],\n",
       "        [  9.65041158],\n",
       "        [  9.82391685],\n",
       "        [ 11.03063433],\n",
       "        [  8.11076419],\n",
       "        [  5.99773819],\n",
       "        [  7.82908634],\n",
       "        [  8.26173607],\n",
       "        [  7.83814786],\n",
       "        [  6.24877289],\n",
       "        [ 10.371509  ],\n",
       "        [  8.46294663],\n",
       "        [ 10.7688201 ],\n",
       "        [ 10.63166512],\n",
       "        [ 10.59548767],\n",
       "        [ 11.33033843],\n",
       "        [  8.93513146],\n",
       "        [  8.09637717],\n",
       "        [ 10.90414317],\n",
       "        [  9.22586555],\n",
       "        [ 11.47392289],\n",
       "        [ 10.17581159],\n",
       "        [ 10.53678432],\n",
       "        [  9.40855714],\n",
       "        [ 11.75427606],\n",
       "        [  7.2352342 ],\n",
       "        [ 10.91971379],\n",
       "        [  9.1941446 ],\n",
       "        [  6.9929574 ],\n",
       "        [ 10.58984879],\n",
       "        [ 10.43321548],\n",
       "        [  8.67074417],\n",
       "        [  9.62611632],\n",
       "        [  8.51520097],\n",
       "        [  8.94952961],\n",
       "        [  9.56350313],\n",
       "        [  9.72515233],\n",
       "        [ 11.31373378],\n",
       "        [  6.68315738],\n",
       "        [  9.14471776],\n",
       "        [  6.18774198],\n",
       "        [ 11.68192087],\n",
       "        [  7.51749852],\n",
       "        [  6.7936417 ],\n",
       "        [  9.44917174],\n",
       "        [ 10.61392259],\n",
       "        [ 10.78097622],\n",
       "        [  8.84336879],\n",
       "        [ 10.24027947],\n",
       "        [  9.48217474],\n",
       "        [  8.13343714],\n",
       "        [  8.90381021],\n",
       "        [  8.28928935],\n",
       "        [  9.34626408],\n",
       "        [  6.99138686],\n",
       "        [ 10.21531224],\n",
       "        [  8.4914931 ],\n",
       "        [  9.51010718],\n",
       "        [  9.12790643],\n",
       "        [  9.62642637],\n",
       "        [  7.02415685],\n",
       "        [  8.73909997],\n",
       "        [  8.53727977],\n",
       "        [  9.75967819],\n",
       "        [  8.89510545],\n",
       "        [ 10.2591497 ],\n",
       "        [  8.40476551],\n",
       "        [ 10.1743073 ],\n",
       "        [  9.48172848],\n",
       "        [ 12.784482  ],\n",
       "        [ 11.37550668],\n",
       "        [  9.38405944],\n",
       "        [ 10.24652356],\n",
       "        [  6.70512999],\n",
       "        [ 10.15002389],\n",
       "        [ 10.93056357],\n",
       "        [ 10.50381507],\n",
       "        [  9.09278358],\n",
       "        [  7.94430819],\n",
       "        [  8.36017631],\n",
       "        [  6.7654567 ],\n",
       "        [  8.09586055],\n",
       "        [  6.96143895],\n",
       "        [  9.40989355],\n",
       "        [ 11.89617023],\n",
       "        [ 11.1180209 ],\n",
       "        [  9.44326616],\n",
       "        [  9.63161012],\n",
       "        [ 10.40398736],\n",
       "        [  9.10349558],\n",
       "        [  8.42735071],\n",
       "        [  8.68887832],\n",
       "        [ 10.5779159 ],\n",
       "        [  8.04717816],\n",
       "        [  7.13234263],\n",
       "        [  8.57711462],\n",
       "        [  9.75099947],\n",
       "        [  8.06692118],\n",
       "        [  8.41472983],\n",
       "        [  8.02139972],\n",
       "        [ 11.8734191 ],\n",
       "        [  8.84370043],\n",
       "        [  9.84291865],\n",
       "        [  8.08325325],\n",
       "        [  8.19699814],\n",
       "        [  9.31520962],\n",
       "        [ 12.0628191 ],\n",
       "        [ 10.68173524],\n",
       "        [  6.48119361],\n",
       "        [  9.03300313],\n",
       "        [  8.41189203],\n",
       "        [ 10.92683479],\n",
       "        [  6.99224168],\n",
       "        [  9.45489667],\n",
       "        [  8.48416238],\n",
       "        [ 12.45522917],\n",
       "        [  7.04267917],\n",
       "        [  9.21068279],\n",
       "        [  8.41471198],\n",
       "        [ 10.63149582],\n",
       "        [ 11.07637666],\n",
       "        [  7.3547087 ],\n",
       "        [  9.88766416],\n",
       "        [  8.28605732],\n",
       "        [  7.61318715],\n",
       "        [  8.29998585],\n",
       "        [  8.85632349],\n",
       "        [ 12.85679389],\n",
       "        [ 10.81043557],\n",
       "        [  6.33506924],\n",
       "        [  8.95091848],\n",
       "        [  8.17511736],\n",
       "        [  9.21646893],\n",
       "        [  8.56793667],\n",
       "        [  7.50655007],\n",
       "        [ 10.77920212],\n",
       "        [  9.99891668],\n",
       "        [ 10.15352333],\n",
       "        [  7.59977358],\n",
       "        [  7.48227279],\n",
       "        [ 11.3942399 ],\n",
       "        [  8.89305381],\n",
       "        [  8.93666963],\n",
       "        [  8.68075591],\n",
       "        [  7.02753832],\n",
       "        [ 11.33682813],\n",
       "        [ 11.40059209],\n",
       "        [  8.44455378],\n",
       "        [  8.05063108],\n",
       "        [  7.45791242],\n",
       "        [ 10.12180721],\n",
       "        [  9.95185873],\n",
       "        [  8.88282088],\n",
       "        [  9.84437622],\n",
       "        [  8.72027354],\n",
       "        [ 10.5479165 ],\n",
       "        [ 11.14735243],\n",
       "        [  8.56940089],\n",
       "        [  8.45797673],\n",
       "        [  7.48847237],\n",
       "        [  9.20304906],\n",
       "        [  9.03359451],\n",
       "        [ 10.68869095],\n",
       "        [  8.19061575],\n",
       "        [  9.91463291],\n",
       "        [ 11.1608732 ],\n",
       "        [  8.32218047],\n",
       "        [ 10.40969548],\n",
       "        [  9.24081914],\n",
       "        [  8.73285562],\n",
       "        [ 10.04737038],\n",
       "        [  6.58927114],\n",
       "        [  8.93152257],\n",
       "        [  7.91669613],\n",
       "        [  7.75085876],\n",
       "        [  7.7706124 ],\n",
       "        [  8.48772292],\n",
       "        [  8.29944954],\n",
       "        [  6.80318433],\n",
       "        [  9.05322046],\n",
       "        [  6.84472013],\n",
       "        [  9.55551088],\n",
       "        [  9.69985787],\n",
       "        [  8.26983192],\n",
       "        [ 11.47472128],\n",
       "        [ 10.42128013],\n",
       "        [ 11.54535099],\n",
       "        [  8.79253485],\n",
       "        [  7.13017096],\n",
       "        [  9.93392334],\n",
       "        [ 10.51698237],\n",
       "        [  6.32403874],\n",
       "        [  8.46418878],\n",
       "        [  9.74225315],\n",
       "        [  8.04632288],\n",
       "        [  9.72221898],\n",
       "        [  8.04390509],\n",
       "        [  9.20585567],\n",
       "        [  6.95943394],\n",
       "        [  9.05191239],\n",
       "        [ 12.78525213],\n",
       "        [ 10.01389949],\n",
       "        [  6.91941235],\n",
       "        [ 10.88694035],\n",
       "        [  6.3969777 ],\n",
       "        [ 10.7741616 ],\n",
       "        [  7.18722029],\n",
       "        [  9.99917521],\n",
       "        [  9.92337666],\n",
       "        [ 10.17137666],\n",
       "        [  8.7384722 ],\n",
       "        [  6.9795529 ],\n",
       "        [  7.62740996],\n",
       "        [  5.76427306],\n",
       "        [  9.30221478],\n",
       "        [ 11.21281767],\n",
       "        [  7.75701515],\n",
       "        [ 10.29424333],\n",
       "        [ 10.26035246],\n",
       "        [  8.29427484],\n",
       "        [  8.4446172 ],\n",
       "        [  9.14765175],\n",
       "        [ 13.39426932],\n",
       "        [  8.76567999],\n",
       "        [  6.48438216],\n",
       "        [  8.06308004],\n",
       "        [  8.62055016],\n",
       "        [ 11.15456288],\n",
       "        [  9.4694861 ],\n",
       "        [  9.7969361 ],\n",
       "        [  7.83642785],\n",
       "        [  7.98445982],\n",
       "        [  8.45515108],\n",
       "        [  7.12002643],\n",
       "        [ 10.71502788],\n",
       "        [ 10.83222237],\n",
       "        [ 10.30367096],\n",
       "        [ 10.67243522],\n",
       "        [  9.04789861],\n",
       "        [  9.2016252 ],\n",
       "        [ 10.45851474],\n",
       "        [  7.87670612],\n",
       "        [ 10.83514255],\n",
       "        [  8.08944047],\n",
       "        [ 10.19162582],\n",
       "        [ 10.41075373],\n",
       "        [  9.0273496 ],\n",
       "        [  7.25491235],\n",
       "        [  8.57517443],\n",
       "        [  9.17310559],\n",
       "        [  7.96134815],\n",
       "        [  9.99488375],\n",
       "        [  5.04975026],\n",
       "        [ 10.66031012],\n",
       "        [  8.05611996],\n",
       "        [  7.34001711],\n",
       "        [  9.15300471],\n",
       "        [  9.25409895],\n",
       "        [ 11.129368  ],\n",
       "        [  9.91110097],\n",
       "        [  7.325883  ],\n",
       "        [  8.01545915],\n",
       "        [  8.14638942],\n",
       "        [  9.89852695],\n",
       "        [  7.72429584],\n",
       "        [  9.432844  ],\n",
       "        [  7.70792828],\n",
       "        [  9.68486123],\n",
       "        [ 10.56125992],\n",
       "        [ 10.91392365],\n",
       "        [ 10.99717013],\n",
       "        [  8.82573769],\n",
       "        [ 10.41245536],\n",
       "        [  8.93789198],\n",
       "        [ 11.60895155],\n",
       "        [ 11.4886286 ],\n",
       "        [ 10.92561717],\n",
       "        [  8.71662053],\n",
       "        [  7.96013972],\n",
       "        [ 10.18050735],\n",
       "        [ 10.64314917],\n",
       "        [ 10.80727451],\n",
       "        [ 11.47721979],\n",
       "        [  6.86668088],\n",
       "        [ 10.53753098],\n",
       "        [ 12.02387751],\n",
       "        [ 11.08196767],\n",
       "        [  8.82313465],\n",
       "        [  9.13720892],\n",
       "        [  7.62105848],\n",
       "        [  6.68161338],\n",
       "        [ 11.07970255],\n",
       "        [ 10.16252359],\n",
       "        [  8.32744729],\n",
       "        [  7.7802562 ],\n",
       "        [ 10.4135524 ],\n",
       "        [ 10.37490901],\n",
       "        [  9.1499884 ],\n",
       "        [ 11.30053049],\n",
       "        [  9.8523764 ],\n",
       "        [  7.69649519],\n",
       "        [  8.53422115],\n",
       "        [  9.57687495],\n",
       "        [  8.70159366],\n",
       "        [  8.1166135 ],\n",
       "        [ 10.72759778],\n",
       "        [  4.87752375],\n",
       "        [ 10.26890341],\n",
       "        [  9.52436704],\n",
       "        [  9.14637075],\n",
       "        [  9.2580597 ]])"
      ]
     },
     "execution_count": 48,
     "metadata": {},
     "output_type": "execute_result"
    }
   ],
   "source": [
    "recon_mat[np.nonzero(~np.isnan(recon_mat[:,1].A))[0],1]"
   ]
  },
  {
   "cell_type": "code",
   "execution_count": 26,
   "metadata": {},
   "outputs": [
    {
     "data": {
      "text/plain": [
       "matrix([[ 10.37044569,  11.23955536],\n",
       "        [ 10.55719313,  11.54594665],\n",
       "        [  9.01323877,   9.01282393],\n",
       "        ..., \n",
       "        [  9.32502753,   9.52436704],\n",
       "        [  9.0946364 ,   9.14637075],\n",
       "        [  9.16271152,   9.2580597 ]])"
      ]
     },
     "execution_count": 26,
     "metadata": {},
     "output_type": "execute_result"
    }
   ],
   "source": [
    "recon_mat"
   ]
  },
  {
   "cell_type": "code",
   "execution_count": 31,
   "metadata": {
    "collapsed": true
   },
   "outputs": [],
   "source": [
    "data = pca.load_dataset('secom.data')"
   ]
  },
  {
   "cell_type": "code",
   "execution_count": 38,
   "metadata": {},
   "outputs": [
    {
     "data": {
      "text/plain": [
       "(array([   0,    1,    2, ..., 1564, 1565, 1566]),\n",
       " array([0, 0, 0, ..., 0, 0, 0]))"
      ]
     },
     "execution_count": 38,
     "metadata": {},
     "output_type": "execute_result"
    }
   ],
   "source": [
    "np.nonzero(~np.isnan(data[:,0].A))"
   ]
  },
  {
   "cell_type": "code",
   "execution_count": 43,
   "metadata": {
    "collapsed": true
   },
   "outputs": [],
   "source": [
    "a = np.array([[0,0,3],[0,1,0],[0,0,9]])\n",
    "b = np.nonzero(a)"
   ]
  },
  {
   "cell_type": "code",
   "execution_count": 44,
   "metadata": {},
   "outputs": [
    {
     "data": {
      "text/plain": [
       "(array([0, 1, 2]), array([2, 1, 2]))"
      ]
     },
     "execution_count": 44,
     "metadata": {},
     "output_type": "execute_result"
    }
   ],
   "source": [
    "b"
   ]
  },
  {
   "cell_type": "code",
   "execution_count": null,
   "metadata": {
    "collapsed": true
   },
   "outputs": [],
   "source": []
  }
 ],
 "metadata": {
  "kernelspec": {
   "display_name": "Python 3",
   "language": "python",
   "name": "python3"
  },
  "language_info": {
   "codemirror_mode": {
    "name": "ipython",
    "version": 3
   },
   "file_extension": ".py",
   "mimetype": "text/x-python",
   "name": "python",
   "nbconvert_exporter": "python",
   "pygments_lexer": "ipython3",
   "version": "3.6.3"
  }
 },
 "nbformat": 4,
 "nbformat_minor": 2
}
