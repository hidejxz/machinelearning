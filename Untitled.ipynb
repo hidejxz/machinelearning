{
 "cells": [
  {
   "cell_type": "code",
   "execution_count": 60,
   "metadata": {},
   "outputs": [
    {
     "data": {
      "text/plain": [
       "'\\nclf = Bayes.Bayes()\\nclf.spam_test()\\n'"
      ]
     },
     "execution_count": 60,
     "metadata": {},
     "output_type": "execute_result"
    }
   ],
   "source": [
    "import numpy as np\n",
    "import Bayes\n",
    "import importlib\n",
    "import matplotlib\n",
    "import matplotlib.pyplot as plt\n",
    "importlib.reload(Bayes)\n",
    "\n",
    "#group = np.array([[1.0,1.1],[1.0,1.0],[0,0],[0,0.1]])\n",
    "#labels = ['A','A','B','B']\n",
    "\n",
    "clf = Bayes.Bayes()\n",
    "data, labels = clf.load_dataset()\n",
    "train = []\n",
    "vocab_list = clf.create_vocab_list(data)\n",
    "for s in data:\n",
    "    train.append(clf.words2vec(vocab_list, s))\n",
    "'''\n",
    "clf = Bayes.Bayes()\n",
    "clf.spam_test()\n",
    "'''"
   ]
  },
  {
   "cell_type": "code",
   "execution_count": 61,
   "metadata": {
    "scrolled": false
   },
   "outputs": [],
   "source": [
    "p0v,p1v,pab = clf.naive_bayes(train, labels)"
   ]
  },
  {
   "cell_type": "code",
   "execution_count": 62,
   "metadata": {},
   "outputs": [
    {
     "data": {
      "text/plain": [
       "array([-3.33220451, -2.63905733, -4.02535169, -4.02535169, -3.33220451,\n",
       "       -3.33220451, -3.33220451, -4.02535169, -3.33220451, -3.33220451,\n",
       "       -4.02535169, -4.02535169, -2.9267394 , -4.02535169, -4.02535169,\n",
       "       -3.33220451, -3.33220451, -3.33220451, -3.33220451, -3.33220451,\n",
       "       -3.33220451, -4.02535169, -3.33220451, -3.33220451, -4.02535169,\n",
       "       -3.33220451, -3.33220451, -3.33220451, -3.33220451, -4.02535169,\n",
       "       -4.02535169, -3.33220451])"
      ]
     },
     "execution_count": 62,
     "metadata": {},
     "output_type": "execute_result"
    }
   ],
   "source": [
    "p0v"
   ]
  },
  {
   "cell_type": "code",
   "execution_count": 161,
   "metadata": {
    "collapsed": true
   },
   "outputs": [],
   "source": [
    "test1 = np.array(\n",
    "    clf.words2vec(vocab_list,['love', 'my', 'dalmation']))"
   ]
  },
  {
   "cell_type": "code",
   "execution_count": 162,
   "metadata": {
    "collapsed": true
   },
   "outputs": [],
   "source": [
    "test2 = np.array(\n",
    "    clf.words2vec(vocab_list,['stupid', 'garbage']))"
   ]
  },
  {
   "cell_type": "code",
   "execution_count": 164,
   "metadata": {},
   "outputs": [
    {
     "data": {
      "text/plain": [
       "1"
      ]
     },
     "execution_count": 164,
     "metadata": {},
     "output_type": "execute_result"
    }
   ],
   "source": [
    "clf.classify_nb(test2,p0v,p1v,pab)"
   ]
  },
  {
   "cell_type": "code",
   "execution_count": 150,
   "metadata": {
    "collapsed": true
   },
   "outputs": [],
   "source": [
    "train_mat = np.mat(train)"
   ]
  },
  {
   "cell_type": "code",
   "execution_count": 151,
   "metadata": {
    "collapsed": true
   },
   "outputs": [],
   "source": [
    "train_mat0 = train_mat[np.nonzero(np.array(labels)==0)[0],:]"
   ]
  },
  {
   "cell_type": "code",
   "execution_count": 155,
   "metadata": {},
   "outputs": [
    {
     "data": {
      "text/plain": [
       "matrix([[0, 0, 0, 0, 0, 1, 0, 0, 1, 0, 0, 0, 1, 0, 0, 0, 0, 1, 0, 1, 1, 0,\n",
       "         0, 0, 0, 0, 0, 0, 0, 0, 1, 0],\n",
       "        [0, 1, 1, 0, 0, 0, 1, 0, 0, 0, 0, 0, 0, 0, 0, 0, 0, 0, 0, 0, 0, 1,\n",
       "         0, 0, 0, 1, 1, 0, 0, 1, 1, 0],\n",
       "        [1, 0, 0, 1, 0, 0, 0, 0, 0, 1, 0, 0, 0, 1, 1, 0, 1, 0, 1, 0, 0, 1,\n",
       "         0, 0, 0, 0, 0, 0, 0, 0, 1, 0]])"
      ]
     },
     "execution_count": 155,
     "metadata": {},
     "output_type": "execute_result"
    }
   ],
   "source": [
    "train_mat0"
   ]
  },
  {
   "cell_type": "code",
   "execution_count": 154,
   "metadata": {},
   "outputs": [
    {
     "data": {
      "text/plain": [
       "array([ 0.04166667,  0.04166667,  0.04166667,  0.04166667,  0.        ,\n",
       "        0.04166667,  0.04166667,  0.        ,  0.04166667,  0.04166667,\n",
       "        0.        ,  0.        ,  0.04166667,  0.04166667,  0.04166667,\n",
       "        0.        ,  0.04166667,  0.04166667,  0.04166667,  0.04166667,\n",
       "        0.04166667,  0.08333333,  0.        ,  0.        ,  0.        ,\n",
       "        0.04166667,  0.04166667,  0.        ,  0.        ,  0.04166667,\n",
       "        0.125     ,  0.        ])"
      ]
     },
     "execution_count": 154,
     "metadata": {},
     "output_type": "execute_result"
    }
   ],
   "source": [
    "np.array(train_mat0.sum(axis = 0)/train_mat0.sum())[0]"
   ]
  },
  {
   "cell_type": "code",
   "execution_count": 156,
   "metadata": {},
   "outputs": [
    {
     "data": {
      "text/plain": [
       "matrix([[1, 1, 1, 1, 0, 1, 1, 0, 1, 1, 0, 0, 1, 1, 1, 0, 1, 1, 1, 1, 1, 2,\n",
       "         0, 0, 0, 1, 1, 0, 0, 1, 3, 0]])"
      ]
     },
     "execution_count": 156,
     "metadata": {},
     "output_type": "execute_result"
    }
   ],
   "source": [
    "train_mat0.sum(axis = 0)"
   ]
  },
  {
   "cell_type": "code",
   "execution_count": 157,
   "metadata": {},
   "outputs": [
    {
     "data": {
      "text/plain": [
       "matrix([[2, 2, 2, 2, 1, 2, 2, 1, 2, 2, 1, 1, 2, 2, 2, 1, 2, 2, 2, 2, 2, 3,\n",
       "         1, 1, 1, 2, 2, 1, 1, 2, 4, 1]])"
      ]
     },
     "execution_count": 157,
     "metadata": {},
     "output_type": "execute_result"
    }
   ],
   "source": [
    "train_mat0.sum(axis = 0)+1"
   ]
  },
  {
   "cell_type": "code",
   "execution_count": 158,
   "metadata": {},
   "outputs": [
    {
     "data": {
      "text/plain": [
       "24"
      ]
     },
     "execution_count": 158,
     "metadata": {},
     "output_type": "execute_result"
    }
   ],
   "source": [
    "train_mat0.sum()"
   ]
  },
  {
   "cell_type": "code",
   "execution_count": 47,
   "metadata": {},
   "outputs": [],
   "source": [
    "def split_train_test(m, q):\n",
    "        trainset = list(range(50))\n",
    "        testset = []\n",
    "        for i in range(int(q)):\n",
    "            rand_index = int(random.uniform(0,len(trainset)))\n",
    "            testset.append(trainset[rand_index])\n",
    "            del(trainset[rand_index])\n",
    "        return trainset, testset"
   ]
  },
  {
   "cell_type": "code",
   "execution_count": null,
   "metadata": {
    "collapsed": true
   },
   "outputs": [],
   "source": [
    "a,b = split_train_test(50,0)"
   ]
  },
  {
   "cell_type": "code",
   "execution_count": 41,
   "metadata": {},
   "outputs": [],
   "source": [
    "        def text_parse(big_string):\n",
    "            import re \n",
    "            list_of_tokens = re.split(r'\\W', big_string)\n",
    "            return [tok.lower() for tok in list_of_tokens if len(tok) > 2]\n",
    "\n",
    "        doclist = []\n",
    "        classlist = []\n",
    "        fulltext = []\n",
    "        for i in range(1,26):\n",
    "            wordlist = text_parse(\n",
    "                open('email/spam/%d.txt' % i).read())\n",
    "            doclist.append(wordlist)\n",
    "            fulltext.extend(wordlist)\n",
    "            classlist.append(1)\n",
    "            wordlist = text_parse(\n",
    "                open('email/ham/%d.txt' % i).read())\n",
    "            doclist.append(wordlist)\n",
    "            fulltext.extend(wordlist)\n",
    "            classlist.append(0)"
   ]
  },
  {
   "cell_type": "code",
   "execution_count": 38,
   "metadata": {},
   "outputs": [
    {
     "data": {
      "text/plain": [
       "32"
      ]
     },
     "execution_count": 38,
     "metadata": {},
     "output_type": "execute_result"
    }
   ],
   "source": [
    "len(doclist)"
   ]
  },
  {
   "cell_type": "code",
   "execution_count": 20,
   "metadata": {},
   "outputs": [
    {
     "data": {
      "text/plain": [
       "[['codeine',\n",
       "  '15mg',\n",
       "  'for',\n",
       "  '203',\n",
       "  'visa',\n",
       "  'only',\n",
       "  'codeine',\n",
       "  'methylmorphine',\n",
       "  'narcotic',\n",
       "  'opioid',\n",
       "  'pain',\n",
       "  'reliever',\n",
       "  'have',\n",
       "  '15mg',\n",
       "  '30mg',\n",
       "  'pills',\n",
       "  '15mg',\n",
       "  'for',\n",
       "  '203',\n",
       "  '15mg',\n",
       "  'for',\n",
       "  '385',\n",
       "  '15mg',\n",
       "  'for',\n",
       "  '562',\n",
       "  'visa',\n",
       "  'only'],\n",
       " ['peter',\n",
       "  'with',\n",
       "  'jose',\n",
       "  'out',\n",
       "  'town',\n",
       "  'you',\n",
       "  'want',\n",
       "  'meet',\n",
       "  'once',\n",
       "  'while',\n",
       "  'keep',\n",
       "  'things',\n",
       "  'going',\n",
       "  'and',\n",
       "  'some',\n",
       "  'interesting',\n",
       "  'stuff',\n",
       "  'let',\n",
       "  'know',\n",
       "  'eugene'],\n",
       " ['hydrocodone',\n",
       "  'vicodin',\n",
       "  'brand',\n",
       "  'watson',\n",
       "  'vicodin',\n",
       "  '750',\n",
       "  '195',\n",
       "  '120',\n",
       "  '570',\n",
       "  'brand',\n",
       "  'watson',\n",
       "  '750',\n",
       "  '195',\n",
       "  '120',\n",
       "  '570',\n",
       "  'brand',\n",
       "  'watson',\n",
       "  '325',\n",
       "  '199',\n",
       "  '120',\n",
       "  '588',\n",
       "  'noprescription',\n",
       "  'required',\n",
       "  'free',\n",
       "  'express',\n",
       "  'fedex',\n",
       "  'days',\n",
       "  'delivery',\n",
       "  'for',\n",
       "  'over',\n",
       "  '200',\n",
       "  'order',\n",
       "  'major',\n",
       "  'credit',\n",
       "  'cards',\n",
       "  'check'],\n",
       " ['yay',\n",
       "  'you',\n",
       "  'both',\n",
       "  'doing',\n",
       "  'fine',\n",
       "  'working',\n",
       "  'mba',\n",
       "  'design',\n",
       "  'strategy',\n",
       "  'cca',\n",
       "  'top',\n",
       "  'art',\n",
       "  'school',\n",
       "  'new',\n",
       "  'program',\n",
       "  'focusing',\n",
       "  'more',\n",
       "  'right',\n",
       "  'brained',\n",
       "  'creative',\n",
       "  'and',\n",
       "  'strategic',\n",
       "  'approach',\n",
       "  'management',\n",
       "  'the',\n",
       "  'way',\n",
       "  'done',\n",
       "  'today'],\n",
       " ['you',\n",
       "  'have',\n",
       "  'everything',\n",
       "  'gain',\n",
       "  'incredib1e',\n",
       "  'gains',\n",
       "  'length',\n",
       "  'inches',\n",
       "  'yourpenis',\n",
       "  'permanantly',\n",
       "  'amazing',\n",
       "  'increase',\n",
       "  'thickness',\n",
       "  'yourpenis',\n",
       "  'betterejacu1ation',\n",
       "  'control',\n",
       "  'experience',\n",
       "  'rock',\n",
       "  'harderecetions',\n",
       "  'explosive',\n",
       "  'intenseorgasns',\n",
       "  'increase',\n",
       "  'volume',\n",
       "  'ofejacu1ate',\n",
       "  'doctor',\n",
       "  'designed',\n",
       "  'and',\n",
       "  'endorsed',\n",
       "  '100',\n",
       "  'herbal',\n",
       "  '100',\n",
       "  'natural',\n",
       "  '100',\n",
       "  'safe',\n",
       "  'the',\n",
       "  'proven',\n",
       "  'naturalpenisenhancement',\n",
       "  'that',\n",
       "  'works',\n",
       "  '100',\n",
       "  'moneyback',\n",
       "  'guaranteeed'],\n",
       " ['what',\n",
       "  'going',\n",
       "  'there',\n",
       "  'talked',\n",
       "  'john',\n",
       "  'email',\n",
       "  'talked',\n",
       "  'about',\n",
       "  'some',\n",
       "  'computer',\n",
       "  'stuff',\n",
       "  'that',\n",
       "  'went',\n",
       "  'bike',\n",
       "  'riding',\n",
       "  'the',\n",
       "  'rain',\n",
       "  'was',\n",
       "  'not',\n",
       "  'that',\n",
       "  'cold',\n",
       "  'went',\n",
       "  'the',\n",
       "  'museum',\n",
       "  'yesterday',\n",
       "  'was',\n",
       "  'get',\n",
       "  'and',\n",
       "  'they',\n",
       "  'had',\n",
       "  'free',\n",
       "  'food',\n",
       "  'the',\n",
       "  'same',\n",
       "  'time',\n",
       "  'was',\n",
       "  'giants',\n",
       "  'game',\n",
       "  'when',\n",
       "  'got',\n",
       "  'done',\n",
       "  'had',\n",
       "  'take',\n",
       "  'the',\n",
       "  'train',\n",
       "  'with',\n",
       "  'all',\n",
       "  'the',\n",
       "  'giants',\n",
       "  'fans',\n",
       "  'they',\n",
       "  'are',\n",
       "  'drunk'],\n",
       " ['percocet',\n",
       "  '625',\n",
       "  'withoutprescription',\n",
       "  'tabs',\n",
       "  '225',\n",
       "  'percocet',\n",
       "  'narcotic',\n",
       "  'analgesic',\n",
       "  'used',\n",
       "  'treat',\n",
       "  'moderate',\n",
       "  'moderately',\n",
       "  'severepain',\n",
       "  'top',\n",
       "  'quality',\n",
       "  'express',\n",
       "  'shipping',\n",
       "  '100',\n",
       "  'safe',\n",
       "  'discreet',\n",
       "  'private',\n",
       "  'buy',\n",
       "  'cheap',\n",
       "  'percocet',\n",
       "  'online'],\n",
       " ['been',\n",
       "  'working',\n",
       "  'running',\n",
       "  'website',\n",
       "  'using',\n",
       "  'jquery',\n",
       "  'and',\n",
       "  'the',\n",
       "  'jqplot',\n",
       "  'plugin',\n",
       "  'not',\n",
       "  'too',\n",
       "  'far',\n",
       "  'away',\n",
       "  'from',\n",
       "  'having',\n",
       "  'prototype',\n",
       "  'launch',\n",
       "  'you',\n",
       "  'used',\n",
       "  'jqplot',\n",
       "  'right',\n",
       "  'not',\n",
       "  'think',\n",
       "  'you',\n",
       "  'would',\n",
       "  'like'],\n",
       " ['codeine',\n",
       "  '15mg',\n",
       "  'for',\n",
       "  '203',\n",
       "  'visa',\n",
       "  'only',\n",
       "  'codeine',\n",
       "  'methylmorphine',\n",
       "  'narcotic',\n",
       "  'opioid',\n",
       "  'pain',\n",
       "  'reliever',\n",
       "  'have',\n",
       "  '15mg',\n",
       "  '30mg',\n",
       "  'pills',\n",
       "  '15mg',\n",
       "  'for',\n",
       "  '203',\n",
       "  '15mg',\n",
       "  'for',\n",
       "  '385',\n",
       "  '15mg',\n",
       "  'for',\n",
       "  '562',\n",
       "  'visa',\n",
       "  'only'],\n",
       " ['there',\n",
       "  'was',\n",
       "  'guy',\n",
       "  'the',\n",
       "  'gas',\n",
       "  'station',\n",
       "  'who',\n",
       "  'told',\n",
       "  'that',\n",
       "  'knew',\n",
       "  'mandarin',\n",
       "  'and',\n",
       "  'python',\n",
       "  'could',\n",
       "  'get',\n",
       "  'job',\n",
       "  'with',\n",
       "  'the',\n",
       "  'fbi'],\n",
       " ['oem',\n",
       "  'adobe',\n",
       "  'microsoft',\n",
       "  'softwares',\n",
       "  'fast',\n",
       "  'order',\n",
       "  'and',\n",
       "  'download',\n",
       "  'microsoft',\n",
       "  'office',\n",
       "  'professional',\n",
       "  'plus',\n",
       "  '2007',\n",
       "  '2010',\n",
       "  '129',\n",
       "  'microsoft',\n",
       "  'windows',\n",
       "  'ultimate',\n",
       "  '119',\n",
       "  'adobe',\n",
       "  'photoshop',\n",
       "  'cs5',\n",
       "  'extended',\n",
       "  'adobe',\n",
       "  'acrobat',\n",
       "  'pro',\n",
       "  'extended',\n",
       "  'windows',\n",
       "  'professional',\n",
       "  'thousand',\n",
       "  'more',\n",
       "  'titles']]"
      ]
     },
     "execution_count": 20,
     "metadata": {},
     "output_type": "execute_result"
    }
   ],
   "source": [
    "doclist"
   ]
  },
  {
   "cell_type": "code",
   "execution_count": 40,
   "metadata": {},
   "outputs": [
    {
     "data": {
      "text/plain": [
       "['hello',\n",
       " 'since',\n",
       " 'you',\n",
       " 'are',\n",
       " 'owner',\n",
       " 'least',\n",
       " 'one',\n",
       " 'google',\n",
       " 'groups',\n",
       " 'group',\n",
       " 'that',\n",
       " 'uses',\n",
       " 'the',\n",
       " 'customized',\n",
       " 'welcome',\n",
       " 'message',\n",
       " 'pages',\n",
       " 'files',\n",
       " 'are',\n",
       " 'writing',\n",
       " 'inform',\n",
       " 'you',\n",
       " 'that',\n",
       " 'will',\n",
       " 'longer',\n",
       " 'supporting',\n",
       " 'these',\n",
       " 'features',\n",
       " 'starting',\n",
       " 'february',\n",
       " '2011',\n",
       " 'made',\n",
       " 'this',\n",
       " 'decision',\n",
       " 'that',\n",
       " 'can',\n",
       " 'focus',\n",
       " 'improving',\n",
       " 'the',\n",
       " 'core',\n",
       " 'functionalities',\n",
       " 'google',\n",
       " 'groups',\n",
       " 'mailing',\n",
       " 'lists',\n",
       " 'and',\n",
       " 'forum',\n",
       " 'discussions',\n",
       " 'instead',\n",
       " 'these',\n",
       " 'features',\n",
       " 'encourage',\n",
       " 'you',\n",
       " 'use',\n",
       " 'products',\n",
       " 'that',\n",
       " 'are',\n",
       " 'designed',\n",
       " 'specifically',\n",
       " 'for',\n",
       " 'file',\n",
       " 'storage',\n",
       " 'and',\n",
       " 'page',\n",
       " 'creation',\n",
       " 'such',\n",
       " 'google',\n",
       " 'docs',\n",
       " 'and',\n",
       " 'google',\n",
       " 'sites',\n",
       " 'for',\n",
       " 'example',\n",
       " 'you',\n",
       " 'can',\n",
       " 'easily',\n",
       " 'create',\n",
       " 'your',\n",
       " 'pages',\n",
       " 'google',\n",
       " 'sites',\n",
       " 'and',\n",
       " 'share',\n",
       " 'the',\n",
       " 'site',\n",
       " 'http',\n",
       " 'www',\n",
       " 'google',\n",
       " 'com',\n",
       " 'support',\n",
       " 'sites',\n",
       " 'bin',\n",
       " 'answer',\n",
       " 'answer',\n",
       " '174623',\n",
       " 'with',\n",
       " 'the',\n",
       " 'members',\n",
       " 'your',\n",
       " 'group',\n",
       " 'you',\n",
       " 'can',\n",
       " 'also',\n",
       " 'store',\n",
       " 'your',\n",
       " 'files',\n",
       " 'the',\n",
       " 'site',\n",
       " 'attaching',\n",
       " 'files',\n",
       " 'pages',\n",
       " 'http',\n",
       " 'www',\n",
       " 'google',\n",
       " 'com',\n",
       " 'support',\n",
       " 'sites',\n",
       " 'bin',\n",
       " 'answer',\n",
       " 'answer',\n",
       " '90563',\n",
       " 'the',\n",
       " 'site',\n",
       " 'you',\n",
       " 'just',\n",
       " 'looking',\n",
       " 'for',\n",
       " 'place',\n",
       " 'upload',\n",
       " 'your',\n",
       " 'files',\n",
       " 'that',\n",
       " 'your',\n",
       " 'group',\n",
       " 'members',\n",
       " 'can',\n",
       " 'download',\n",
       " 'them',\n",
       " 'suggest',\n",
       " 'you',\n",
       " 'try',\n",
       " 'google',\n",
       " 'docs',\n",
       " 'you',\n",
       " 'can',\n",
       " 'upload',\n",
       " 'files',\n",
       " 'http',\n",
       " 'docs',\n",
       " 'google',\n",
       " 'com',\n",
       " 'support',\n",
       " 'bin',\n",
       " 'answer',\n",
       " 'answer',\n",
       " '50092',\n",
       " 'and',\n",
       " 'share',\n",
       " 'access',\n",
       " 'with',\n",
       " 'either',\n",
       " 'group',\n",
       " 'http',\n",
       " 'docs',\n",
       " 'google',\n",
       " 'com',\n",
       " 'support',\n",
       " 'bin',\n",
       " 'answer',\n",
       " 'answer',\n",
       " '66343',\n",
       " 'individual',\n",
       " 'http',\n",
       " 'docs',\n",
       " 'google',\n",
       " 'com',\n",
       " 'support',\n",
       " 'bin',\n",
       " 'answer',\n",
       " 'answer',\n",
       " '86152',\n",
       " 'assigning',\n",
       " 'either',\n",
       " 'edit',\n",
       " 'download',\n",
       " 'only',\n",
       " 'access',\n",
       " 'the',\n",
       " 'files',\n",
       " 'you',\n",
       " 'have',\n",
       " 'received',\n",
       " 'this',\n",
       " 'mandatory',\n",
       " 'email',\n",
       " 'service',\n",
       " 'announcement',\n",
       " 'update',\n",
       " 'you',\n",
       " 'about',\n",
       " 'important',\n",
       " 'changes',\n",
       " 'google',\n",
       " 'groups']"
      ]
     },
     "execution_count": 40,
     "metadata": {},
     "output_type": "execute_result"
    }
   ],
   "source": [
    "text_parse(open('email/ham/6.txt').read())"
   ]
  },
  {
   "cell_type": "code",
   "execution_count": 34,
   "metadata": {},
   "outputs": [
    {
     "data": {
      "text/plain": [
       "'Hello,\\n\\nSince you are an owner of at least one Google Groups group that uses the customized welcome message, pages or files, we are writing to inform you that we will no longer be supporting these features starting February 2011. We made this decision so that we can focus on improving the core functionalities of Google Groups -- mailing lists and forum discussions.  Instead of these features, we encourage you to use products that are designed specifically for file storage and page creation, such as Google Docs and Google Sites.\\n\\nFor example, you can easily create your pages on Google Sites and share the site (http://www.google.com/support/sites/bin/answer.py?hl=en&answer=174623) with the members of your group. You can also store your files on the site by attaching files to pages (http://www.google.com/support/sites/bin/answer.py?hl=en&answer=90563) on the site. If you just looking for a place to upload your files so that your group members can download them, we suggest you try Google Docs. You can upload files (http://docs.google.com/support/bin/answer.py?hl=en&answer=50092) and share access with either a group (http://docs.google.com/support/bin/answer.py?hl=en&answer=66343) or an individual (http://docs.google.com/support/bin/answer.py?hl=en&answer=86152), assigning either edit or download only access to the files.\\n\\nyou have received this mandatory email service announcement to update you about important changes to Google Groups.'"
      ]
     },
     "execution_count": 34,
     "metadata": {},
     "output_type": "execute_result"
    }
   ],
   "source": [
    "open('email/ham/6.txt').read()"
   ]
  },
  {
   "cell_type": "code",
   "execution_count": null,
   "metadata": {
    "collapsed": true
   },
   "outputs": [],
   "source": []
  }
 ],
 "metadata": {
  "kernelspec": {
   "display_name": "Python 3",
   "language": "python",
   "name": "python3"
  },
  "language_info": {
   "codemirror_mode": {
    "name": "ipython",
    "version": 3
   },
   "file_extension": ".py",
   "mimetype": "text/x-python",
   "name": "python",
   "nbconvert_exporter": "python",
   "pygments_lexer": "ipython3",
   "version": "3.6.3"
  }
 },
 "nbformat": 4,
 "nbformat_minor": 2
}
