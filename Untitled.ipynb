{
 "cells": [
  {
   "cell_type": "code",
   "execution_count": 136,
   "metadata": {},
   "outputs": [],
   "source": [
    "import numpy as np\n",
    "import kMeans\n",
    "import importlib\n",
    "importlib.reload(kMeans)\n",
    "\n",
    "#group = np.array([[1.0,1.1],[1.0,1.0],[0,0],[0,0.1]])\n",
    "#labels = ['A','A','B','B']\n",
    "\n",
    "clf = kMeans.kMeans()\n",
    "data_mat = np.mat(clf.load_dataset('testSet_kmeans.txt'))\n",
    "#clf.classify([0.2,0.2], group, labels, 3)\n",
    "#data,labels = clf.load_dataset('datingTestSet2.txt')\n",
    "#clf.classify_person(data,labels)\n",
    "#data_mat, labels = clf.load_img('trainingDigits')\n",
    "#clf.handwriting('trainingDigits','testDigits',3)"
   ]
  },
  {
   "cell_type": "code",
   "execution_count": 138,
   "metadata": {},
   "outputs": [
    {
     "name": "stdout",
     "output_type": "stream",
     "text": [
      "[[ 3.98400045  3.70629461]\n",
      " [-4.75977244  0.45154051]\n",
      " [ 3.17581542 -0.51423656]\n",
      " [-4.57107777 -0.68510897]]\n",
      "[[ 2.33576644  3.40117833]\n",
      " [-2.54951105  2.75812458]\n",
      " [ 2.723454   -2.26243579]\n",
      " [-3.53973889 -2.89384326]]\n",
      "[[ 2.6265299   3.10868015]\n",
      " [-2.46154315  2.78737555]\n",
      " [ 2.80293085 -2.7315146 ]\n",
      " [-3.38237045 -2.9473363 ]]\n"
     ]
    }
   ],
   "source": [
    "a,b = clf.kmeans(data_mat,4)"
   ]
  },
  {
   "cell_type": "code",
   "execution_count": 139,
   "metadata": {},
   "outputs": [
    {
     "data": {
      "text/plain": [
       "matrix([[ 2.6265299 ,  3.10868015],\n",
       "        [-2.46154315,  2.78737555],\n",
       "        [ 2.80293085, -2.7315146 ],\n",
       "        [-3.38237045, -2.9473363 ]])"
      ]
     },
     "execution_count": 139,
     "metadata": {},
     "output_type": "execute_result"
    }
   ],
   "source": [
    "a"
   ]
  },
  {
   "cell_type": "code",
   "execution_count": 140,
   "metadata": {},
   "outputs": [
    {
     "name": "stdout",
     "output_type": "stream",
     "text": [
      "[[ 1.65985945 -0.88531098]\n",
      " [ 3.32209679  3.02613311]]\n",
      "[[-0.9610238  -1.36400478]\n",
      " [ 1.78269008  3.17457436]]\n",
      "[[-0.92053993 -2.24220061]\n",
      " [ 0.89485278  2.86113675]]\n",
      "[[-0.67616265 -2.73216252]\n",
      " [ 0.46893622  2.84076492]]\n",
      "[[-0.40926764 -2.89114795]\n",
      " [ 0.18713124  2.8560699 ]]\n",
      "[[-0.2897198  -2.83942545]\n",
      " [ 0.08249337  2.94802785]]\n",
      "bb [[-0.2897198  -2.83942545]\n",
      " [ 0.08249337  2.94802785]] bb\n",
      "sseSplit: 792.92, notSplit: 0.00\n",
      "best_cent_to_split: 0\n",
      "len of best_cluster_assment: 80\n",
      "aa [[-0.2897198  -2.83942545]\n",
      " [ 0.08249337  2.94802785]] aa\n",
      "[[-2.0342588  -0.87577255]\n",
      " [-3.18155394 -3.548933  ]]\n",
      "[[ 2.3364891  -2.587775  ]\n",
      " [-3.19237174 -3.11756542]]\n",
      "[[ 2.80293085 -2.7315146 ]\n",
      " [-3.38237045 -2.9473363 ]]\n",
      "bb [[ 2.80293085 -2.7315146 ]\n",
      " [-3.38237045 -2.9473363 ]] bb\n",
      "sseSplit: 83.59, notSplit: 326.28\n",
      "[[ 3.13366562  2.17136279]\n",
      " [-2.32109563  3.71749907]]\n",
      "[[ 2.6265299   3.10868015]\n",
      " [-2.46154315  2.78737555]]\n",
      "bb [[ 2.6265299   3.10868015]\n",
      " [-2.46154315  2.78737555]] bb\n",
      "sseSplit: 66.37, notSplit: 466.63\n",
      "best_cent_to_split: 0\n",
      "len of best_cluster_assment: 40\n",
      "aa [[ 2.80293085 -2.7315146 ]\n",
      " [-3.38237045 -2.9473363 ]] aa\n",
      "[[ 2.30087673 -2.58992664]\n",
      " [ 1.94431003 -2.15026472]]\n",
      "[[ 3.10080606 -2.87897482]\n",
      " [ 1.11497133 -1.89590667]]\n",
      "[[ 3.23588694 -2.80743806]\n",
      " [ 1.0711065  -2.42782075]]\n",
      "[[ 3.32732107 -2.78284667]\n",
      " [ 1.2297602  -2.5775184 ]]\n",
      "[[ 3.50016369 -2.78458277]\n",
      " [ 1.50806986 -2.63295943]]\n",
      "bb [[ 3.50016369 -2.78458277]\n",
      " [ 1.50806986 -2.63295943]] bb\n",
      "sseSplit: 32.83, notSplit: 358.89\n",
      "[[-3.49040035  3.29622015]\n",
      " [-2.08770936  2.85900449]]\n",
      "[[-3.53617117  2.93790183]\n",
      " [ 0.72108124  2.94981479]]\n",
      "[[-2.64677572  2.78993217]\n",
      " [ 2.31553173  3.07737886]]\n",
      "[[-2.46154315  2.78737555]\n",
      " [ 2.6265299   3.10868015]]\n",
      "bb [[-2.46154315  2.78737555]\n",
      " [ 2.6265299   3.10868015]] bb\n",
      "sseSplit: 66.37, notSplit: 83.59\n",
      "[[-5.09281858 -3.91490536]\n",
      " [-4.16217991 -4.08485961]]\n",
      "[[-4.96163367 -2.81966767]\n",
      " [-3.10367694 -2.96986606]]\n",
      "[[-4.80217975 -3.09927975]\n",
      " [-3.02741812 -2.90935044]]\n",
      "[[-4.53754583 -3.09705   ]\n",
      " [-2.88729529 -2.88317329]]\n",
      "[[-4.43759314 -3.119445  ]\n",
      " [-2.81417362 -2.85466238]]\n",
      "[[-4.35315562 -3.03353825]\n",
      " [-2.73518033 -2.88986833]]\n",
      "[[-4.277741   -2.94771   ]\n",
      " [-2.64979455 -2.94703055]]\n",
      "[[-4.1986774 -2.8253822]\n",
      " [-2.5660635 -3.0692904]]\n",
      "[[-4.12637645 -2.82110091]\n",
      " [-2.47302978 -3.101624  ]]\n",
      "[[-4.04883533 -2.77633633]\n",
      " [-2.38267313 -3.20383625]]\n",
      "bb [[-4.04883533 -2.77633633]\n",
      " [-2.38267313 -3.20383625]] bb\n",
      "sseSplit: 18.40, notSplit: 377.27\n",
      "best_cent_to_split: 1\n",
      "len of best_cluster_assment: 40\n",
      "aa [[-2.46154315  2.78737555]\n",
      " [ 2.6265299   3.10868015]] aa\n"
     ]
    }
   ],
   "source": [
    "a,b = clf.bikmeans(data_mat,4)"
   ]
  },
  {
   "cell_type": "code",
   "execution_count": 100,
   "metadata": {},
   "outputs": [
    {
     "name": "stdout",
     "output_type": "stream",
     "text": [
      "[[-122.46261501   45.46270015]\n",
      " [-122.39928202   45.57941276]]\n",
      "[[-122.62856971   45.5103284 ]\n",
      " [-122.842918     45.646831  ]]\n",
      "[[-122.62552961   45.50776091]\n",
      " [-122.76690133   45.612314  ]]\n",
      "[[-122.62063813   45.5040831 ]\n",
      " [-122.729442     45.58514429]]\n",
      "[[-122.60434434   45.50451707]\n",
      " [-122.74941346   45.545862  ]]\n",
      "[[-122.59648847   45.50821685]\n",
      " [-122.74823556   45.52585431]]\n",
      "[[-122.58031918   45.51010827]\n",
      " [-122.72797062   45.51642875]]\n",
      "[[-122.56818551   45.5102949 ]\n",
      " [-122.7142141    45.51492203]]\n",
      "[[-122.56409551   45.51016235]\n",
      " [-122.70981637   45.51478609]]\n",
      "sseSplit: 3073.83, notSplit: 0.00\n",
      "best_cent_to_split: 0\n",
      "len of best_cluster_assment: 69\n",
      "[[-122.46748512   45.54584555]\n",
      " [-122.56483378   45.53224563]]\n",
      "[[-122.4568086    45.4961344 ]\n",
      " [-122.58085909   45.51235422]]\n",
      "sseSplit: 970.40, notSplit: 1685.03\n",
      "[[-122.6673872    45.47490083]\n",
      " [-122.65529024   45.60382873]]\n",
      "[[-122.70949754   45.49175975]\n",
      " [-122.71077288   45.58386513]]\n",
      "sseSplit: 1055.59, notSplit: 1388.80\n",
      "best_cent_to_split: 1\n",
      "len of best_cluster_assment: 32\n",
      "[[-122.44648879   45.42287016]\n",
      " [-122.53880218   45.51212773]]\n",
      "[[-122.4975985    45.4146945 ]\n",
      " [-122.56789534   45.51561766]]\n",
      "[[-122.54311867   45.41882033]\n",
      " [-122.56594641   45.51822194]]\n",
      "sseSplit: 1043.64, notSplit: 1055.59\n",
      "[[-122.6806373    45.52152378]\n",
      " [-122.74393636   45.47393924]]\n",
      "[[-122.66523823   45.51322154]\n",
      " [-122.761804     45.46639582]]\n",
      "sseSplit: 295.88, notSplit: 1649.43\n",
      "[[-122.83514462   45.55804717]\n",
      " [-122.65279424   45.63310952]]\n",
      "[[-122.781873     45.5949235 ]\n",
      " [-122.68707283   45.580179  ]]\n",
      "[[-122.842918   45.646831]\n",
      " [-122.691895   45.57487 ]]\n",
      "sseSplit: 83.86, notSplit: 2183.76\n",
      "best_cent_to_split: 1\n",
      "len of best_cluster_assment: 24\n",
      "[[-122.53269747   45.49218478]\n",
      " [-122.48575545   45.41151675]]\n",
      "[[-122.56789534   45.51561766]\n",
      " [-122.4975985    45.4146945 ]]\n",
      "[[-122.56594641   45.51822194]\n",
      " [-122.54311867   45.41882033]]\n",
      "sseSplit: 1043.64, notSplit: 556.51\n",
      "[[-122.64957621   45.51400672]\n",
      " [-122.66760173   45.53408572]]\n",
      "[[-122.65572083   45.500611  ]\n",
      " [-122.673396     45.52403057]]\n",
      "[[-122.65542725   45.49088475]\n",
      " [-122.66959867   45.523149  ]]\n",
      "[[-122.655394    45.483773 ]\n",
      " [-122.6681915   45.5220561]]\n",
      "sseSplit: 17.26, notSplit: 1883.93\n",
      "[[-122.79610102   45.56738928]\n",
      " [-122.83600958   45.5420322 ]]\n",
      "sseSplit: 640.60, notSplit: 1684.68\n",
      "[[-122.79016197   45.44956033]\n",
      " [-122.78916582   45.50369397]]\n",
      "[[-122.7365076    45.4329942 ]\n",
      " [-122.78288433   45.4942305 ]]\n",
      "sseSplit: 72.39, notSplit: 1710.81\n",
      "best_cent_to_split: 0\n",
      "len of best_cluster_assment: 37\n",
      "[matrix([[-122.56594641,   45.51822194]]), matrix([[-122.66523823,   45.51322154]]), matrix([[-122.71077288,   45.58386513]]), matrix([[-122.761804  ,   45.46639582]]), matrix([[-122.54311867,   45.41882033]])]\n"
     ]
    },
    {
     "name": "stderr",
     "output_type": "stream",
     "text": [
      "E:\\Anaconda3\\lib\\site-packages\\numpy\\matrixlib\\defmatrix.py:583: RuntimeWarning: Mean of empty slice.\n",
      "  return N.ndarray.mean(self, axis, dtype, out, keepdims=True)._collapse(axis)\n",
      "E:\\Anaconda3\\lib\\site-packages\\numpy\\core\\_methods.py:73: RuntimeWarning: invalid value encountered in true_divide\n",
      "  ret, rcount, out=ret, casting='unsafe', subok=False)\n"
     ]
    },
    {
     "ename": "TypeError",
     "evalue": "list indices must be integers or slices, not tuple",
     "output_type": "error",
     "traceback": [
      "\u001b[1;31m---------------------------------------------------------------------------\u001b[0m",
      "\u001b[1;31mTypeError\u001b[0m                                 Traceback (most recent call last)",
      "\u001b[1;32m<ipython-input-100-b187ee533a92>\u001b[0m in \u001b[0;36m<module>\u001b[1;34m()\u001b[0m\n\u001b[1;32m----> 1\u001b[1;33m \u001b[0mclf\u001b[0m\u001b[1;33m.\u001b[0m\u001b[0mcluster_clubs\u001b[0m\u001b[1;33m(\u001b[0m\u001b[1;33m)\u001b[0m\u001b[1;33m\u001b[0m\u001b[0m\n\u001b[0m",
      "\u001b[1;32mG:\\python_ml\\machinelearning\\kMeans.py\u001b[0m in \u001b[0;36mcluster_clubs\u001b[1;34m(self, k, dist_meas)\u001b[0m\n\u001b[0;32m    120\u001b[0m                         marker = marker_style, s = 90)\n\u001b[0;32m    121\u001b[0m         \u001b[0mprint\u001b[0m\u001b[1;33m(\u001b[0m\u001b[0mcentroids\u001b[0m\u001b[1;33m)\u001b[0m\u001b[1;33m\u001b[0m\u001b[0m\n\u001b[1;32m--> 122\u001b[1;33m         ax1.scatter(centroids[:,0].flatten().A[0],\n\u001b[0m\u001b[0;32m    123\u001b[0m                     centroids[:,1].flatten().A[0], marker='+', s=300)\n\u001b[0;32m    124\u001b[0m         \u001b[0mplt\u001b[0m\u001b[1;33m.\u001b[0m\u001b[0mshow\u001b[0m\u001b[1;33m(\u001b[0m\u001b[1;33m)\u001b[0m\u001b[1;33m\u001b[0m\u001b[0m\n",
      "\u001b[1;31mTypeError\u001b[0m: list indices must be integers or slices, not tuple"
     ]
    }
   ],
   "source": [
    "clf.cluster_clubs()"
   ]
  },
  {
   "cell_type": "code",
   "execution_count": 63,
   "metadata": {},
   "outputs": [],
   "source": [
    "a = np.mat([[-122.4009285,   45.46897  ]])"
   ]
  },
  {
   "cell_type": "code",
   "execution_count": 67,
   "metadata": {},
   "outputs": [
    {
     "data": {
      "text/plain": [
       "matrix([[-122.4009285]])"
      ]
     },
     "execution_count": 67,
     "metadata": {},
     "output_type": "execute_result"
    }
   ],
   "source": [
    "a[:,0]"
   ]
  },
  {
   "cell_type": "code",
   "execution_count": 30,
   "metadata": {},
   "outputs": [
    {
     "data": {
      "text/plain": [
       "array([[ 0.30381202],\n",
       "       [ 0.95726193],\n",
       "       [ 0.92594097]])"
      ]
     },
     "execution_count": 30,
     "metadata": {},
     "output_type": "execute_result"
    }
   ],
   "source": [
    "np.random.rand(3,1)"
   ]
  },
  {
   "cell_type": "code",
   "execution_count": 33,
   "metadata": {},
   "outputs": [
    {
     "data": {
      "text/plain": [
       "inf"
      ]
     },
     "execution_count": 33,
     "metadata": {},
     "output_type": "execute_result"
    }
   ],
   "source": [
    "np.inf"
   ]
  },
  {
   "cell_type": "code",
   "execution_count": null,
   "metadata": {
    "collapsed": true
   },
   "outputs": [],
   "source": []
  }
 ],
 "metadata": {
  "kernelspec": {
   "display_name": "Python 3",
   "language": "python",
   "name": "python3"
  },
  "language_info": {
   "codemirror_mode": {
    "name": "ipython",
    "version": 3
   },
   "file_extension": ".py",
   "mimetype": "text/x-python",
   "name": "python",
   "nbconvert_exporter": "python",
   "pygments_lexer": "ipython3",
   "version": "3.6.3"
  }
 },
 "nbformat": 4,
 "nbformat_minor": 2
}
