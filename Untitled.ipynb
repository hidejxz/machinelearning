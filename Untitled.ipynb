{
 "cells": [
  {
   "cell_type": "code",
   "execution_count": 97,
   "metadata": {},
   "outputs": [],
   "source": [
    "import numpy as np\n",
    "import AdaBoost\n",
    "import importlib\n",
    "importlib.reload(AdaBoost)\n",
    "data_mat = np.matrix([[1.0, 2.1]\n",
    "                     ,[2.0, 1.1]\n",
    "                     ,[1.3, 1.0]\n",
    "                     ,[1.0, 1.0]\n",
    "                     ,[2.0, 1.0]])\n",
    "class_labels = [1.0, 1.0, -1.0, -1.0, 1.0]"
   ]
  },
  {
   "cell_type": "code",
   "execution_count": 98,
   "metadata": {
    "collapsed": true
   },
   "outputs": [],
   "source": [
    "clf = AdaBoost.AdaBoost()"
   ]
  },
  {
   "cell_type": "code",
   "execution_count": 99,
   "metadata": {},
   "outputs": [
    {
     "name": "stdout",
     "output_type": "stream",
     "text": [
      "split: dim 0, thresh 0.90, thresh ineqal: lt, the weighted error is 0.400\n",
      "split: dim 0, thresh 0.90, thresh ineqal: gt, the weighted error is 0.600\n",
      "split: dim 0, thresh 1.00, thresh ineqal: lt, the weighted error is 0.400\n",
      "split: dim 0, thresh 1.00, thresh ineqal: gt, the weighted error is 0.600\n",
      "split: dim 0, thresh 1.10, thresh ineqal: lt, the weighted error is 0.400\n",
      "split: dim 0, thresh 1.10, thresh ineqal: gt, the weighted error is 0.600\n",
      "split: dim 0, thresh 1.20, thresh ineqal: lt, the weighted error is 0.400\n",
      "split: dim 0, thresh 1.20, thresh ineqal: gt, the weighted error is 0.600\n",
      "split: dim 0, thresh 1.30, thresh ineqal: lt, the weighted error is 0.200\n",
      "split: dim 0, thresh 1.30, thresh ineqal: gt, the weighted error is 0.800\n",
      "split: dim 0, thresh 1.40, thresh ineqal: lt, the weighted error is 0.200\n",
      "split: dim 0, thresh 1.40, thresh ineqal: gt, the weighted error is 0.800\n",
      "split: dim 0, thresh 1.50, thresh ineqal: lt, the weighted error is 0.200\n",
      "split: dim 0, thresh 1.50, thresh ineqal: gt, the weighted error is 0.800\n",
      "split: dim 0, thresh 1.60, thresh ineqal: lt, the weighted error is 0.200\n",
      "split: dim 0, thresh 1.60, thresh ineqal: gt, the weighted error is 0.800\n",
      "split: dim 0, thresh 1.70, thresh ineqal: lt, the weighted error is 0.200\n",
      "split: dim 0, thresh 1.70, thresh ineqal: gt, the weighted error is 0.800\n",
      "split: dim 0, thresh 1.80, thresh ineqal: lt, the weighted error is 0.200\n",
      "split: dim 0, thresh 1.80, thresh ineqal: gt, the weighted error is 0.800\n",
      "split: dim 0, thresh 1.90, thresh ineqal: lt, the weighted error is 0.200\n",
      "split: dim 0, thresh 1.90, thresh ineqal: gt, the weighted error is 0.800\n",
      "split: dim 0, thresh 2.00, thresh ineqal: lt, the weighted error is 0.600\n",
      "split: dim 0, thresh 2.00, thresh ineqal: gt, the weighted error is 0.400\n",
      "split: dim 1, thresh 0.89, thresh ineqal: lt, the weighted error is 0.400\n",
      "split: dim 1, thresh 0.89, thresh ineqal: gt, the weighted error is 0.600\n",
      "split: dim 1, thresh 1.00, thresh ineqal: lt, the weighted error is 0.200\n",
      "split: dim 1, thresh 1.00, thresh ineqal: gt, the weighted error is 0.800\n",
      "split: dim 1, thresh 1.11, thresh ineqal: lt, the weighted error is 0.400\n",
      "split: dim 1, thresh 1.11, thresh ineqal: gt, the weighted error is 0.600\n",
      "split: dim 1, thresh 1.22, thresh ineqal: lt, the weighted error is 0.400\n",
      "split: dim 1, thresh 1.22, thresh ineqal: gt, the weighted error is 0.600\n",
      "split: dim 1, thresh 1.33, thresh ineqal: lt, the weighted error is 0.400\n",
      "split: dim 1, thresh 1.33, thresh ineqal: gt, the weighted error is 0.600\n",
      "split: dim 1, thresh 1.44, thresh ineqal: lt, the weighted error is 0.400\n",
      "split: dim 1, thresh 1.44, thresh ineqal: gt, the weighted error is 0.600\n",
      "split: dim 1, thresh 1.55, thresh ineqal: lt, the weighted error is 0.400\n",
      "split: dim 1, thresh 1.55, thresh ineqal: gt, the weighted error is 0.600\n",
      "split: dim 1, thresh 1.66, thresh ineqal: lt, the weighted error is 0.400\n",
      "split: dim 1, thresh 1.66, thresh ineqal: gt, the weighted error is 0.600\n",
      "split: dim 1, thresh 1.77, thresh ineqal: lt, the weighted error is 0.400\n",
      "split: dim 1, thresh 1.77, thresh ineqal: gt, the weighted error is 0.600\n",
      "split: dim 1, thresh 1.88, thresh ineqal: lt, the weighted error is 0.400\n",
      "split: dim 1, thresh 1.88, thresh ineqal: gt, the weighted error is 0.600\n",
      "split: dim 1, thresh 1.99, thresh ineqal: lt, the weighted error is 0.400\n",
      "split: dim 1, thresh 1.99, thresh ineqal: gt, the weighted error is 0.600\n",
      "split: dim 1, thresh 2.10, thresh ineqal: lt, the weighted error is 0.600\n",
      "split: dim 1, thresh 2.10, thresh ineqal: gt, the weighted error is 0.400\n",
      "D: [[ 0.2  0.2  0.2  0.2  0.2]]\n",
      "class_est:  [[-1.  1. -1. -1.  1.]]\n",
      "agg_class_est:  [[-0.69314718  0.69314718 -0.69314718 -0.69314718  0.69314718]]\n",
      "total error:  0.2 \n",
      "\n",
      "split: dim 0, thresh 0.90, thresh ineqal: lt, the weighted error is 0.250\n",
      "split: dim 0, thresh 0.90, thresh ineqal: gt, the weighted error is 0.750\n",
      "split: dim 0, thresh 1.00, thresh ineqal: lt, the weighted error is 0.625\n",
      "split: dim 0, thresh 1.00, thresh ineqal: gt, the weighted error is 0.375\n",
      "split: dim 0, thresh 1.10, thresh ineqal: lt, the weighted error is 0.625\n",
      "split: dim 0, thresh 1.10, thresh ineqal: gt, the weighted error is 0.375\n",
      "split: dim 0, thresh 1.20, thresh ineqal: lt, the weighted error is 0.625\n",
      "split: dim 0, thresh 1.20, thresh ineqal: gt, the weighted error is 0.375\n",
      "split: dim 0, thresh 1.30, thresh ineqal: lt, the weighted error is 0.500\n",
      "split: dim 0, thresh 1.30, thresh ineqal: gt, the weighted error is 0.500\n",
      "split: dim 0, thresh 1.40, thresh ineqal: lt, the weighted error is 0.500\n",
      "split: dim 0, thresh 1.40, thresh ineqal: gt, the weighted error is 0.500\n",
      "split: dim 0, thresh 1.50, thresh ineqal: lt, the weighted error is 0.500\n",
      "split: dim 0, thresh 1.50, thresh ineqal: gt, the weighted error is 0.500\n",
      "split: dim 0, thresh 1.60, thresh ineqal: lt, the weighted error is 0.500\n",
      "split: dim 0, thresh 1.60, thresh ineqal: gt, the weighted error is 0.500\n",
      "split: dim 0, thresh 1.70, thresh ineqal: lt, the weighted error is 0.500\n",
      "split: dim 0, thresh 1.70, thresh ineqal: gt, the weighted error is 0.500\n",
      "split: dim 0, thresh 1.80, thresh ineqal: lt, the weighted error is 0.500\n",
      "split: dim 0, thresh 1.80, thresh ineqal: gt, the weighted error is 0.500\n",
      "split: dim 0, thresh 1.90, thresh ineqal: lt, the weighted error is 0.500\n",
      "split: dim 0, thresh 1.90, thresh ineqal: gt, the weighted error is 0.500\n",
      "split: dim 0, thresh 2.00, thresh ineqal: lt, the weighted error is 0.750\n",
      "split: dim 0, thresh 2.00, thresh ineqal: gt, the weighted error is 0.250\n",
      "split: dim 1, thresh 0.89, thresh ineqal: lt, the weighted error is 0.250\n",
      "split: dim 1, thresh 0.89, thresh ineqal: gt, the weighted error is 0.750\n",
      "split: dim 1, thresh 1.00, thresh ineqal: lt, the weighted error is 0.125\n",
      "split: dim 1, thresh 1.00, thresh ineqal: gt, the weighted error is 0.875\n",
      "split: dim 1, thresh 1.11, thresh ineqal: lt, the weighted error is 0.250\n",
      "split: dim 1, thresh 1.11, thresh ineqal: gt, the weighted error is 0.750\n",
      "split: dim 1, thresh 1.22, thresh ineqal: lt, the weighted error is 0.250\n",
      "split: dim 1, thresh 1.22, thresh ineqal: gt, the weighted error is 0.750\n",
      "split: dim 1, thresh 1.33, thresh ineqal: lt, the weighted error is 0.250\n",
      "split: dim 1, thresh 1.33, thresh ineqal: gt, the weighted error is 0.750\n",
      "split: dim 1, thresh 1.44, thresh ineqal: lt, the weighted error is 0.250\n",
      "split: dim 1, thresh 1.44, thresh ineqal: gt, the weighted error is 0.750\n",
      "split: dim 1, thresh 1.55, thresh ineqal: lt, the weighted error is 0.250\n",
      "split: dim 1, thresh 1.55, thresh ineqal: gt, the weighted error is 0.750\n",
      "split: dim 1, thresh 1.66, thresh ineqal: lt, the weighted error is 0.250\n",
      "split: dim 1, thresh 1.66, thresh ineqal: gt, the weighted error is 0.750\n",
      "split: dim 1, thresh 1.77, thresh ineqal: lt, the weighted error is 0.250\n",
      "split: dim 1, thresh 1.77, thresh ineqal: gt, the weighted error is 0.750\n",
      "split: dim 1, thresh 1.88, thresh ineqal: lt, the weighted error is 0.250\n",
      "split: dim 1, thresh 1.88, thresh ineqal: gt, the weighted error is 0.750\n",
      "split: dim 1, thresh 1.99, thresh ineqal: lt, the weighted error is 0.250\n",
      "split: dim 1, thresh 1.99, thresh ineqal: gt, the weighted error is 0.750\n",
      "split: dim 1, thresh 2.10, thresh ineqal: lt, the weighted error is 0.750\n",
      "split: dim 1, thresh 2.10, thresh ineqal: gt, the weighted error is 0.250\n",
      "D: [[ 0.5    0.125  0.125  0.125  0.125]]\n",
      "class_est:  [[ 1.  1. -1. -1. -1.]]\n",
      "agg_class_est:  [[ 0.27980789  1.66610226 -1.66610226 -1.66610226 -0.27980789]]\n",
      "total error:  0.2 \n",
      "\n",
      "split: dim 0, thresh 0.90, thresh ineqal: lt, the weighted error is 0.143\n",
      "split: dim 0, thresh 0.90, thresh ineqal: gt, the weighted error is 0.857\n",
      "split: dim 0, thresh 1.00, thresh ineqal: lt, the weighted error is 0.357\n",
      "split: dim 0, thresh 1.00, thresh ineqal: gt, the weighted error is 0.643\n",
      "split: dim 0, thresh 1.10, thresh ineqal: lt, the weighted error is 0.357\n",
      "split: dim 0, thresh 1.10, thresh ineqal: gt, the weighted error is 0.643\n",
      "split: dim 0, thresh 1.20, thresh ineqal: lt, the weighted error is 0.357\n",
      "split: dim 0, thresh 1.20, thresh ineqal: gt, the weighted error is 0.643\n",
      "split: dim 0, thresh 1.30, thresh ineqal: lt, the weighted error is 0.286\n",
      "split: dim 0, thresh 1.30, thresh ineqal: gt, the weighted error is 0.714\n",
      "split: dim 0, thresh 1.40, thresh ineqal: lt, the weighted error is 0.286\n",
      "split: dim 0, thresh 1.40, thresh ineqal: gt, the weighted error is 0.714\n",
      "split: dim 0, thresh 1.50, thresh ineqal: lt, the weighted error is 0.286\n",
      "split: dim 0, thresh 1.50, thresh ineqal: gt, the weighted error is 0.714\n",
      "split: dim 0, thresh 1.60, thresh ineqal: lt, the weighted error is 0.286\n",
      "split: dim 0, thresh 1.60, thresh ineqal: gt, the weighted error is 0.714\n",
      "split: dim 0, thresh 1.70, thresh ineqal: lt, the weighted error is 0.286\n",
      "split: dim 0, thresh 1.70, thresh ineqal: gt, the weighted error is 0.714\n",
      "split: dim 0, thresh 1.80, thresh ineqal: lt, the weighted error is 0.286\n",
      "split: dim 0, thresh 1.80, thresh ineqal: gt, the weighted error is 0.714\n",
      "split: dim 0, thresh 1.90, thresh ineqal: lt, the weighted error is 0.286\n",
      "split: dim 0, thresh 1.90, thresh ineqal: gt, the weighted error is 0.714\n",
      "split: dim 0, thresh 2.00, thresh ineqal: lt, the weighted error is 0.857\n",
      "split: dim 0, thresh 2.00, thresh ineqal: gt, the weighted error is 0.143\n",
      "split: dim 1, thresh 0.89, thresh ineqal: lt, the weighted error is 0.143\n",
      "split: dim 1, thresh 0.89, thresh ineqal: gt, the weighted error is 0.857\n",
      "split: dim 1, thresh 1.00, thresh ineqal: lt, the weighted error is 0.500\n",
      "split: dim 1, thresh 1.00, thresh ineqal: gt, the weighted error is 0.500\n",
      "split: dim 1, thresh 1.11, thresh ineqal: lt, the weighted error is 0.571\n",
      "split: dim 1, thresh 1.11, thresh ineqal: gt, the weighted error is 0.429\n",
      "split: dim 1, thresh 1.22, thresh ineqal: lt, the weighted error is 0.571\n",
      "split: dim 1, thresh 1.22, thresh ineqal: gt, the weighted error is 0.429\n",
      "split: dim 1, thresh 1.33, thresh ineqal: lt, the weighted error is 0.571\n",
      "split: dim 1, thresh 1.33, thresh ineqal: gt, the weighted error is 0.429\n",
      "split: dim 1, thresh 1.44, thresh ineqal: lt, the weighted error is 0.571\n",
      "split: dim 1, thresh 1.44, thresh ineqal: gt, the weighted error is 0.429\n",
      "split: dim 1, thresh 1.55, thresh ineqal: lt, the weighted error is 0.571\n",
      "split: dim 1, thresh 1.55, thresh ineqal: gt, the weighted error is 0.429\n",
      "split: dim 1, thresh 1.66, thresh ineqal: lt, the weighted error is 0.571\n",
      "split: dim 1, thresh 1.66, thresh ineqal: gt, the weighted error is 0.429\n",
      "split: dim 1, thresh 1.77, thresh ineqal: lt, the weighted error is 0.571\n",
      "split: dim 1, thresh 1.77, thresh ineqal: gt, the weighted error is 0.429\n",
      "split: dim 1, thresh 1.88, thresh ineqal: lt, the weighted error is 0.571\n",
      "split: dim 1, thresh 1.88, thresh ineqal: gt, the weighted error is 0.429\n",
      "split: dim 1, thresh 1.99, thresh ineqal: lt, the weighted error is 0.571\n",
      "split: dim 1, thresh 1.99, thresh ineqal: gt, the weighted error is 0.429\n",
      "split: dim 1, thresh 2.10, thresh ineqal: lt, the weighted error is 0.857\n",
      "split: dim 1, thresh 2.10, thresh ineqal: gt, the weighted error is 0.143\n",
      "D: [[ 0.28571429  0.07142857  0.07142857  0.07142857  0.5       ]]\n",
      "class_est:  [[ 1.  1.  1.  1.  1.]]\n",
      "agg_class_est:  [[ 1.17568763  2.56198199 -0.77022252 -0.77022252  0.61607184]]\n",
      "total error:  0.0 \n",
      "\n"
     ]
    },
    {
     "data": {
      "text/plain": [
       "[{'alpha': 0.6931471805599453, 'dim': 0, 'ineq': 'lt', 'thresh': 1.3},\n",
       " {'alpha': 0.9729550745276565, 'dim': 1, 'ineq': 'lt', 'thresh': 1.0},\n",
       " {'alpha': 0.8958797346140273,\n",
       "  'dim': 0,\n",
       "  'ineq': 'lt',\n",
       "  'thresh': 0.90000000000000002}]"
      ]
     },
     "execution_count": 99,
     "metadata": {},
     "output_type": "execute_result"
    }
   ],
   "source": [
    "clf.adaboost_train_ds(data_mat, class_labels)"
   ]
  },
  {
   "cell_type": "code",
   "execution_count": 2,
   "metadata": {
    "collapsed": true
   },
   "outputs": [],
   "source": [
    "def stump_classify(data_mat, dimen, thresh_val, thresh_ineq):\n",
    "    ret_array = np.ones((np.shape(data_mat)[0],1))\n",
    "    if thresh_ineq == 'lt':\n",
    "        ret_array[data_mat[:,dimen] <= thresh_val] = -1.0\n",
    "    else:\n",
    "        ret_array[data_mat[:,dimen] > thresh_val] = -1.0\n",
    "    return ret_array"
   ]
  },
  {
   "cell_type": "code",
   "execution_count": 5,
   "metadata": {},
   "outputs": [
    {
     "data": {
      "text/plain": [
       "array([[-1.],\n",
       "       [-1.],\n",
       "       [-1.],\n",
       "       [-1.],\n",
       "       [-1.]])"
      ]
     },
     "execution_count": 5,
     "metadata": {},
     "output_type": "execute_result"
    }
   ],
   "source": [
    "stump_classify(data_mat, 0, 0, 'gt')"
   ]
  },
  {
   "cell_type": "code",
   "execution_count": 13,
   "metadata": {},
   "outputs": [
    {
     "data": {
      "text/plain": [
       "matrix([[ 0.4]])"
      ]
     },
     "execution_count": 13,
     "metadata": {},
     "output_type": "execute_result"
    }
   ],
   "source": [
    "d = np.mat(np.ones((5,1))/5)\n",
    "e = np.matrix([[0],[1],[1],[0],[0]])\n",
    "d.T*e"
   ]
  },
  {
   "cell_type": "code",
   "execution_count": 10,
   "metadata": {},
   "outputs": [
    {
     "data": {
      "text/plain": [
       "matrix([[ 0.2,  0.2,  0.2,  0.2,  0.2]])"
      ]
     },
     "execution_count": 10,
     "metadata": {},
     "output_type": "execute_result"
    }
   ],
   "source": [
    "d.T"
   ]
  },
  {
   "cell_type": "code",
   "execution_count": 12,
   "metadata": {},
   "outputs": [
    {
     "data": {
      "text/plain": [
       "matrix([[0, 1, 1, 0, 0]])"
      ]
     },
     "execution_count": 12,
     "metadata": {},
     "output_type": "execute_result"
    }
   ],
   "source": [
    "e"
   ]
  },
  {
   "cell_type": "code",
   "execution_count": 15,
   "metadata": {},
   "outputs": [
    {
     "data": {
      "text/plain": [
       "matrix([[ 1.]])"
      ]
     },
     "execution_count": 15,
     "metadata": {},
     "output_type": "execute_result"
    }
   ],
   "source": [
    "d.T*np.mat(np.ones((5,1)))"
   ]
  },
  {
   "cell_type": "code",
   "execution_count": 36,
   "metadata": {
    "collapsed": true
   },
   "outputs": [],
   "source": [
    "def build_stump(data_mat, class_labels, D):\n",
    "    data_mat = np.mat(data_mat)\n",
    "    label_mat = np.mat(class_labels).T\n",
    "    m,n = np.shape(data_mat)\n",
    "    num_steps = 10.0\n",
    "    best_stump = {}\n",
    "    best_class_est = np.mat(np.zeros((m,1)))\n",
    "    min_error = np.inf\n",
    "    for i in range(n):\n",
    "        range_min = data_mat[:,i].min()\n",
    "        range_max = data_mat[:,i].max()\n",
    "        step_size = (range_max - range_min)/num_steps\n",
    "        for j in range(-1,int(num_steps)+1):\n",
    "            for inequal in ['lt', 'gt']:\n",
    "                thresh_val = (range_min + float(j) * step_size)\n",
    "                predicted_vals = stump_classify(data_mat, i, thresh_val, inequal)\n",
    "                err_mat = np.mat(np.ones((m,1)))\n",
    "                err_mat[predicted_vals == label_mat] = 0\n",
    "                weighted_err = D.T*err_mat\n",
    "                print(\"split: dim %d, thresh %.2f, thresh ineqal: %s, the weighted error is %.3f\" \n",
    "                      %(i, thresh_val, inequal, weighted_err))\n",
    "                if weighted_err < min_error:\n",
    "                    min_error = weighted_err\n",
    "                    best_class_est = predicted_vals.copy()\n",
    "                    best_stump['dim'] = i\n",
    "                    best_stump['thresh'] = thresh_val\n",
    "                    best_stump['ineq'] = inequal\n",
    "    return best_stump, min_error, best_class_est"
   ]
  },
  {
   "cell_type": "code",
   "execution_count": 37,
   "metadata": {},
   "outputs": [
    {
     "name": "stdout",
     "output_type": "stream",
     "text": [
      "split: dim 0, thresh 0.90, thresh ineqal: lt, the weighted error is 0.400\n",
      "split: dim 0, thresh 0.90, thresh ineqal: gt, the weighted error is 0.600\n",
      "split: dim 0, thresh 1.00, thresh ineqal: lt, the weighted error is 0.400\n",
      "split: dim 0, thresh 1.00, thresh ineqal: gt, the weighted error is 0.600\n",
      "split: dim 0, thresh 1.10, thresh ineqal: lt, the weighted error is 0.400\n",
      "split: dim 0, thresh 1.10, thresh ineqal: gt, the weighted error is 0.600\n",
      "split: dim 0, thresh 1.20, thresh ineqal: lt, the weighted error is 0.400\n",
      "split: dim 0, thresh 1.20, thresh ineqal: gt, the weighted error is 0.600\n",
      "split: dim 0, thresh 1.30, thresh ineqal: lt, the weighted error is 0.200\n",
      "split: dim 0, thresh 1.30, thresh ineqal: gt, the weighted error is 0.800\n",
      "split: dim 0, thresh 1.40, thresh ineqal: lt, the weighted error is 0.200\n",
      "split: dim 0, thresh 1.40, thresh ineqal: gt, the weighted error is 0.800\n",
      "split: dim 0, thresh 1.50, thresh ineqal: lt, the weighted error is 0.200\n",
      "split: dim 0, thresh 1.50, thresh ineqal: gt, the weighted error is 0.800\n",
      "split: dim 0, thresh 1.60, thresh ineqal: lt, the weighted error is 0.200\n",
      "split: dim 0, thresh 1.60, thresh ineqal: gt, the weighted error is 0.800\n",
      "split: dim 0, thresh 1.70, thresh ineqal: lt, the weighted error is 0.200\n",
      "split: dim 0, thresh 1.70, thresh ineqal: gt, the weighted error is 0.800\n",
      "split: dim 0, thresh 1.80, thresh ineqal: lt, the weighted error is 0.200\n",
      "split: dim 0, thresh 1.80, thresh ineqal: gt, the weighted error is 0.800\n",
      "split: dim 0, thresh 1.90, thresh ineqal: lt, the weighted error is 0.200\n",
      "split: dim 0, thresh 1.90, thresh ineqal: gt, the weighted error is 0.800\n",
      "split: dim 0, thresh 2.00, thresh ineqal: lt, the weighted error is 0.600\n",
      "split: dim 0, thresh 2.00, thresh ineqal: gt, the weighted error is 0.400\n",
      "split: dim 1, thresh 0.89, thresh ineqal: lt, the weighted error is 0.400\n",
      "split: dim 1, thresh 0.89, thresh ineqal: gt, the weighted error is 0.600\n",
      "split: dim 1, thresh 1.00, thresh ineqal: lt, the weighted error is 0.200\n",
      "split: dim 1, thresh 1.00, thresh ineqal: gt, the weighted error is 0.800\n",
      "split: dim 1, thresh 1.11, thresh ineqal: lt, the weighted error is 0.400\n",
      "split: dim 1, thresh 1.11, thresh ineqal: gt, the weighted error is 0.600\n",
      "split: dim 1, thresh 1.22, thresh ineqal: lt, the weighted error is 0.400\n",
      "split: dim 1, thresh 1.22, thresh ineqal: gt, the weighted error is 0.600\n",
      "split: dim 1, thresh 1.33, thresh ineqal: lt, the weighted error is 0.400\n",
      "split: dim 1, thresh 1.33, thresh ineqal: gt, the weighted error is 0.600\n",
      "split: dim 1, thresh 1.44, thresh ineqal: lt, the weighted error is 0.400\n",
      "split: dim 1, thresh 1.44, thresh ineqal: gt, the weighted error is 0.600\n",
      "split: dim 1, thresh 1.55, thresh ineqal: lt, the weighted error is 0.400\n",
      "split: dim 1, thresh 1.55, thresh ineqal: gt, the weighted error is 0.600\n",
      "split: dim 1, thresh 1.66, thresh ineqal: lt, the weighted error is 0.400\n",
      "split: dim 1, thresh 1.66, thresh ineqal: gt, the weighted error is 0.600\n",
      "split: dim 1, thresh 1.77, thresh ineqal: lt, the weighted error is 0.400\n",
      "split: dim 1, thresh 1.77, thresh ineqal: gt, the weighted error is 0.600\n",
      "split: dim 1, thresh 1.88, thresh ineqal: lt, the weighted error is 0.400\n",
      "split: dim 1, thresh 1.88, thresh ineqal: gt, the weighted error is 0.600\n",
      "split: dim 1, thresh 1.99, thresh ineqal: lt, the weighted error is 0.400\n",
      "split: dim 1, thresh 1.99, thresh ineqal: gt, the weighted error is 0.600\n",
      "split: dim 1, thresh 2.10, thresh ineqal: lt, the weighted error is 0.600\n",
      "split: dim 1, thresh 2.10, thresh ineqal: gt, the weighted error is 0.400\n"
     ]
    },
    {
     "data": {
      "text/plain": [
       "({'dim': 0, 'ineq': 'lt', 'thresh': 1.3}, matrix([[ 0.2]]), array([[-1.],\n",
       "        [ 1.],\n",
       "        [-1.],\n",
       "        [-1.],\n",
       "        [ 1.]]))"
      ]
     },
     "execution_count": 37,
     "metadata": {},
     "output_type": "execute_result"
    }
   ],
   "source": [
    "D = np.mat(np.ones((5,1))/5)\n",
    "build_stump(data_mat, class_labels, D)"
   ]
  },
  {
   "cell_type": "code",
   "execution_count": 76,
   "metadata": {
    "collapsed": true
   },
   "outputs": [],
   "source": [
    "a1 = np.mat([1,2,3])\n",
    "b1 = np.mat([[1],[2],[3]])\n",
    "a2 = np.array([1,2,3])\n",
    "b2 = np.array([[1],[2],[3]])"
   ]
  },
  {
   "cell_type": "code",
   "execution_count": 77,
   "metadata": {},
   "outputs": [
    {
     "data": {
      "text/plain": [
       "matrix([[14]])"
      ]
     },
     "execution_count": 77,
     "metadata": {},
     "output_type": "execute_result"
    }
   ],
   "source": [
    "a1*b1"
   ]
  },
  {
   "cell_type": "code",
   "execution_count": 78,
   "metadata": {},
   "outputs": [
    {
     "data": {
      "text/plain": [
       "matrix([[1, 2, 3],\n",
       "        [2, 4, 6],\n",
       "        [3, 6, 9]])"
      ]
     },
     "execution_count": 78,
     "metadata": {},
     "output_type": "execute_result"
    }
   ],
   "source": [
    "np.multiply(a1,b1)"
   ]
  },
  {
   "cell_type": "code",
   "execution_count": 79,
   "metadata": {},
   "outputs": [
    {
     "data": {
      "text/plain": [
       "matrix([[14]])"
      ]
     },
     "execution_count": 79,
     "metadata": {},
     "output_type": "execute_result"
    }
   ],
   "source": [
    "np.dot(a1,b1)"
   ]
  },
  {
   "cell_type": "code",
   "execution_count": 80,
   "metadata": {},
   "outputs": [
    {
     "data": {
      "text/plain": [
       "matrix([[14]])"
      ]
     },
     "execution_count": 80,
     "metadata": {},
     "output_type": "execute_result"
    }
   ],
   "source": [
    "np.matmul(a1,b1)"
   ]
  },
  {
   "cell_type": "code",
   "execution_count": 81,
   "metadata": {},
   "outputs": [
    {
     "data": {
      "text/plain": [
       "array([[1, 2, 3],\n",
       "       [2, 4, 6],\n",
       "       [3, 6, 9]])"
      ]
     },
     "execution_count": 81,
     "metadata": {},
     "output_type": "execute_result"
    }
   ],
   "source": [
    "a2*b2"
   ]
  },
  {
   "cell_type": "code",
   "execution_count": 82,
   "metadata": {},
   "outputs": [
    {
     "data": {
      "text/plain": [
       "array([[1, 2, 3],\n",
       "       [2, 4, 6],\n",
       "       [3, 6, 9]])"
      ]
     },
     "execution_count": 82,
     "metadata": {},
     "output_type": "execute_result"
    }
   ],
   "source": [
    "np.multiply(a2,b2)"
   ]
  },
  {
   "cell_type": "code",
   "execution_count": 83,
   "metadata": {},
   "outputs": [
    {
     "data": {
      "text/plain": [
       "array([14])"
      ]
     },
     "execution_count": 83,
     "metadata": {},
     "output_type": "execute_result"
    }
   ],
   "source": [
    "np.dot(a2,b2)"
   ]
  },
  {
   "cell_type": "code",
   "execution_count": 84,
   "metadata": {},
   "outputs": [
    {
     "data": {
      "text/plain": [
       "array([14])"
      ]
     },
     "execution_count": 84,
     "metadata": {},
     "output_type": "execute_result"
    }
   ],
   "source": [
    "np.matmul(a2,b2)"
   ]
  },
  {
   "cell_type": "code",
   "execution_count": 70,
   "metadata": {},
   "outputs": [
    {
     "data": {
      "text/plain": [
       "array([[  0.,   1.,   4.],\n",
       "       [  0.,   4.,  10.],\n",
       "       [  0.,   7.,  16.]])"
      ]
     },
     "execution_count": 70,
     "metadata": {},
     "output_type": "execute_result"
    }
   ],
   "source": [
    "np.multiply(x1,x2)"
   ]
  },
  {
   "cell_type": "code",
   "execution_count": 72,
   "metadata": {},
   "outputs": [],
   "source": [
    "a = np.array([0,1,2])"
   ]
  },
  {
   "cell_type": "code",
   "execution_count": 74,
   "metadata": {},
   "outputs": [
    {
     "data": {
      "text/plain": [
       "array([0, 1, 4])"
      ]
     },
     "execution_count": 74,
     "metadata": {},
     "output_type": "execute_result"
    }
   ],
   "source": [
    "a*a"
   ]
  },
  {
   "cell_type": "code",
   "execution_count": 85,
   "metadata": {
    "collapsed": true
   },
   "outputs": [],
   "source": [
    "a = np.mat([1,0,0,1,0])\n",
    "b = np.mat([1,0,0,1,1])"
   ]
  },
  {
   "cell_type": "code",
   "execution_count": 86,
   "metadata": {},
   "outputs": [
    {
     "data": {
      "text/plain": [
       "matrix([[False, False, False, False,  True]], dtype=bool)"
      ]
     },
     "execution_count": 86,
     "metadata": {},
     "output_type": "execute_result"
    }
   ],
   "source": [
    "a!=b"
   ]
  },
  {
   "cell_type": "code",
   "execution_count": null,
   "metadata": {
    "collapsed": true
   },
   "outputs": [],
   "source": []
  },
  {
   "cell_type": "code",
   "execution_count": null,
   "metadata": {
    "collapsed": true
   },
   "outputs": [],
   "source": []
  },
  {
   "cell_type": "code",
   "execution_count": 68,
   "metadata": {},
   "outputs": [
    {
     "data": {
      "text/plain": [
       "array([  5.,  14.,  23.])"
      ]
     },
     "execution_count": 68,
     "metadata": {},
     "output_type": "execute_result"
    }
   ],
   "source": [
    "np.dot(x1,x2)"
   ]
  },
  {
   "cell_type": "code",
   "execution_count": 69,
   "metadata": {},
   "outputs": [
    {
     "data": {
      "text/plain": [
       "array([  5.,  14.,  23.])"
      ]
     },
     "execution_count": 69,
     "metadata": {},
     "output_type": "execute_result"
    }
   ],
   "source": [
    "np.matmul(x1,x2)"
   ]
  },
  {
   "cell_type": "code",
   "execution_count": null,
   "metadata": {
    "collapsed": true
   },
   "outputs": [],
   "source": []
  }
 ],
 "metadata": {
  "kernelspec": {
   "display_name": "Python 3",
   "language": "python",
   "name": "python3"
  },
  "language_info": {
   "codemirror_mode": {
    "name": "ipython",
    "version": 3
   },
   "file_extension": ".py",
   "mimetype": "text/x-python",
   "name": "python",
   "nbconvert_exporter": "python",
   "pygments_lexer": "ipython3",
   "version": "3.6.3"
  }
 },
 "nbformat": 4,
 "nbformat_minor": 2
}
