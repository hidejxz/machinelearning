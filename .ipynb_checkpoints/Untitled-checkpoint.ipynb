{
 "cells": [
  {
   "cell_type": "code",
   "execution_count": 3,
   "metadata": {
    "collapsed": true
   },
   "outputs": [],
   "source": [
    "import numpy as np\n",
    "import kMeans\n",
    "import importlib\n",
    "import matplotlib\n",
    "import matplotlib.pyplot as plt\n",
    "importlib.reload(kMeans)\n",
    "\n",
    "#group = np.array([[1.0,1.1],[1.0,1.0],[0,0],[0,0.1]])\n",
    "#labels = ['A','A','B','B']\n",
    "\n",
    "clf = kMeans.kMeans()\n",
    "data_mat = np.mat(clf.load_dataset('testSet_kmeans.txt'))\n",
    "#clf.classify([0.2,0.2], group, labels, 3)\n",
    "#data,labels = clf.load_dataset('datingTestSet2.txt')\n",
    "#clf.classify_person(data,labels)\n",
    "#data_mat, labels = clf.load_img('trainingDigits')\n",
    "#clf.handwriting('trainingDigits','testDigits',3)"
   ]
  },
  {
   "cell_type": "code",
   "execution_count": 143,
   "metadata": {},
   "outputs": [
    {
     "name": "stdout",
     "output_type": "stream",
     "text": [
      "[[ 4.16053581 -3.87353329]\n",
      " [-2.0177467  -0.89208772]\n",
      " [-1.68207153 -2.83360556]\n",
      " [-0.45662972  5.04248479]]\n",
      "[[ 3.23113972 -2.53879733]\n",
      " [-2.80315467 -0.0487905 ]\n",
      " [-2.9085278  -3.11811235]\n",
      " [ 0.23721978  3.13048439]]\n",
      "[[ 2.8692781  -2.54779119]\n",
      " [-3.28879656  2.53721789]\n",
      " [-3.38237045 -2.9473363 ]\n",
      " [ 0.95675603  3.13198253]]\n",
      "[[ 2.80293085 -2.7315146 ]\n",
      " [-2.64677572  2.78993217]\n",
      " [-3.38237045 -2.9473363 ]\n",
      " [ 2.31553173  3.07737886]]\n",
      "[[ 2.80293085 -2.7315146 ]\n",
      " [-2.46154315  2.78737555]\n",
      " [-3.38237045 -2.9473363 ]\n",
      " [ 2.6265299   3.10868015]]\n"
     ]
    }
   ],
   "source": [
    "a,b = clf.kmeans(data_mat,4)"
   ]
  },
  {
   "cell_type": "code",
   "execution_count": 153,
   "metadata": {},
   "outputs": [
    {
     "data": {
      "text/plain": [
       "matrix([[-3.38237045, -2.9473363 ],\n",
       "        [-2.46154315,  2.78737555],\n",
       "        [ 2.80293085, -2.7315146 ],\n",
       "        [ 2.6265299 ,  3.10868015]])"
      ]
     },
     "execution_count": 153,
     "metadata": {},
     "output_type": "execute_result"
    }
   ],
   "source": [
    "a"
   ]
  },
  {
   "cell_type": "code",
   "execution_count": 161,
   "metadata": {
    "scrolled": true
   },
   "outputs": [
    {
     "data": {
      "text/plain": [
       "matrix([[-2.46154315,  2.78737555],\n",
       "        [ 2.65077367, -2.79019029],\n",
       "        [-3.53973889, -2.89384326],\n",
       "        [ 2.6265299 ,  3.10868015]])"
      ]
     },
     "execution_count": 161,
     "metadata": {},
     "output_type": "execute_result"
    }
   ],
   "source": [
    "np.mat(a)"
   ]
  },
  {
   "cell_type": "code",
   "execution_count": 159,
   "metadata": {},
   "outputs": [
    {
     "name": "stdout",
     "output_type": "stream",
     "text": [
      "[[-4.77261605  3.98086888]\n",
      " [-2.54349412 -1.34353688]]\n",
      "[[-1.50165826  3.26760639]\n",
      " [ 0.46051023 -1.24229563]]\n",
      "[[-0.59196673  3.13360545]\n",
      " [ 0.2392733  -2.10776349]]\n",
      "[[-0.02298687  2.99472915]\n",
      " [-0.18030656 -2.74269124]]\n",
      "[[ 0.08249337  2.94802785]\n",
      " [-0.2897198  -2.83942545]]\n",
      "bb [[0.082493375, 2.94802785], [-0.2897198, -2.8394254499999994]] bb\n",
      "sseSplit: 792.92, notSplit: 0.00\n",
      "best_cent_to_split: 0\n",
      "len of best_cluster_assment: 80\n",
      "aa [[0.082493375, 2.94802785], [-0.2897198, -2.8394254499999994]] aa\n",
      "[[-3.74953511  1.84571494]\n",
      " [ 0.62387174  1.35713264]]\n",
      "[[-2.64677572  2.78993217]\n",
      " [ 2.31553173  3.07737886]]\n",
      "[[-2.46154315  2.78737555]\n",
      " [ 2.6265299   3.10868015]]\n",
      "bb [[-2.46154315, 2.7873755500000006], [2.6265298999999995, 3.10868015]] bb\n",
      "sseSplit: 66.37, notSplit: 466.63\n",
      "[[ 0.4698075  -2.35880947]\n",
      " [-2.0280318  -1.77020415]]\n",
      "[[ 2.65077367 -2.79019029]\n",
      " [-3.53973889 -2.89384326]]\n",
      "bb [[2.650773666666667, -2.790190285714286], [-3.539738894736842, -2.893843263157895]] bb\n",
      "sseSplit: 84.26, notSplit: 326.28\n",
      "best_cent_to_split: 1\n",
      "len of best_cluster_assment: 40\n",
      "aa [[2.650773666666667, -2.790190285714286], [-3.539738894736842, -2.893843263157895]] aa\n",
      "[[-4.08971034  5.08406961]\n",
      " [-1.17374692  2.7843405 ]]\n",
      "[[-3.84165867  3.351989  ]\n",
      " [ 0.40066786  2.91527424]]\n",
      "[[-2.84340727  2.7650418 ]\n",
      " [ 1.83803376  3.05781948]]\n",
      "[[-2.46154315  2.78737555]\n",
      " [ 2.6265299   3.10868015]]\n",
      "bb [[-2.46154315, 2.7873755500000006], [2.6265298999999995, 3.10868015]] bb\n",
      "sseSplit: 66.37, notSplit: 84.26\n",
      "[[ 2.6010415  -3.7680801 ]\n",
      " [ 1.94191316 -2.00175182]]\n",
      "[[ 2.57675883 -3.49127908]\n",
      " [ 2.74946011 -1.85540522]]\n",
      "[[ 2.22523567 -3.55290525]\n",
      " [ 3.21815767 -1.773237  ]]\n",
      "[[ 2.22949562 -3.47648515]\n",
      " [ 3.3353505  -1.67496113]]\n",
      "[[ 2.2728545  -3.41806164]\n",
      " [ 3.406612   -1.53444757]]\n",
      "bb [[2.2728545, -3.418061642857143], [3.4066119999999995, -1.5344475714285717]] bb\n",
      "sseSplit: 39.60, notSplit: 348.39\n",
      "[[-4.60564692 -2.26055593]\n",
      " [-4.76151129 -2.54585264]]\n",
      "[[-3.22716782 -2.502518  ]\n",
      " [-3.96952412 -3.4319155 ]]\n",
      "[[-3.0899224  -2.5341869 ]\n",
      " [-4.039535   -3.29346144]]\n",
      "[[-3.00188209 -2.68858682]\n",
      " [-4.279292   -3.17607087]]\n",
      "[[-3.01599058 -2.76224225]\n",
      " [-4.43759314 -3.119445  ]]\n",
      "bb [[-3.0159905833333336, -2.76224225], [-4.437593142857143, -3.1194449999999994]] bb\n",
      "sseSplit: 12.60, notSplit: 388.44\n",
      "best_cent_to_split: 0\n",
      "len of best_cluster_assment: 40\n",
      "aa [[-2.46154315, 2.7873755500000006], [2.6265298999999995, 3.10868015]] aa\n"
     ]
    }
   ],
   "source": [
    "a,b = clf.bikmeans(data_mat,4)"
   ]
  },
  {
   "cell_type": "code",
   "execution_count": 4,
   "metadata": {},
   "outputs": [
    {
     "name": "stdout",
     "output_type": "stream",
     "text": [
      "[[-122.83696842   45.62589266]\n",
      " [-122.53971747   45.45690198]]\n",
      "[[-122.74941346   45.545862  ]\n",
      " [-122.60434434   45.50451707]]\n",
      "[[-122.74823556   45.52585431]\n",
      " [-122.59648847   45.50821685]]\n",
      "[[-122.72797062   45.51642875]\n",
      " [-122.58031918   45.51010827]]\n",
      "[[-122.7142141    45.51492203]\n",
      " [-122.56818551   45.5102949 ]]\n",
      "[[-122.70981637   45.51478609]\n",
      " [-122.56409551   45.51016235]]\n",
      "sseSplit: 3073.83, notSplit: 0.00\n",
      "best_cent_to_split: 0\n",
      "len of best_cluster_assment: 69\n",
      "[[-122.77159175   45.55706723]\n",
      " [-122.67837492   45.60895329]]\n",
      "[[-122.719502     45.49725325]\n",
      " [-122.6807595    45.56738462]]\n",
      "[[-122.71383191   45.48837414]\n",
      " [-122.7009822    45.5728924 ]]\n",
      "[[-122.7113283    45.48987535]\n",
      " [-122.70595256   45.57844689]]\n",
      "sseSplit: 1056.40, notSplit: 1388.80\n",
      "[[-122.5314115    45.46774822]\n",
      " [-122.61484028   45.50628733]]\n",
      "[[-122.51087015   45.48952723]\n",
      " [-122.59292592   45.52133971]]\n",
      "sseSplit: 938.51, notSplit: 1685.03\n",
      "best_cent_to_split: 0\n",
      "len of best_cluster_assment: 32\n",
      "[[-122.64950252   45.46555431]\n",
      " [-122.64941037   45.38430527]]\n",
      "[[-122.70939177   45.49474777]\n",
      " [-122.753932     45.382682  ]]\n",
      "[[-122.70670786   45.49803157]\n",
      " [-122.759843     45.404235  ]]\n",
      "[[-122.70406447   45.50352568]\n",
      " [-122.7458315    45.42503625]]\n",
      "sseSplit: 472.66, notSplit: 1685.71\n",
      "[[-122.4655391    45.45351298]\n",
      " [-122.41339729   45.45723583]]\n",
      "[[-122.57341934   45.5125162 ]\n",
      " [-122.4009285    45.46897   ]]\n",
      "sseSplit: 1002.32, notSplit: 1056.40\n",
      "[[-122.69651428   45.54674094]\n",
      " [-122.76691367   45.62482495]]\n",
      "[[-122.67547817   45.56151333]\n",
      " [-122.76690133   45.612314  ]]\n",
      "sseSplit: 131.89, notSplit: 2148.29\n",
      "best_cent_to_split: 1\n",
      "len of best_cluster_assment: 37\n",
      "[[-122.71541854   45.40220823]\n",
      " [-122.77455611   45.39915379]]\n",
      "[[-122.67623727   45.499552  ]\n",
      " [-122.777124     45.47173163]]\n",
      "[[-122.66768608   45.50781577]\n",
      " [-122.7680632    45.4665528 ]]\n",
      "[[-122.66505892   45.51139825]\n",
      " [-122.761804     45.46639582]]\n",
      "sseSplit: 289.43, notSplit: 1299.22\n",
      "[[-122.62298156   45.40791383]\n",
      " [-122.59161415   45.42199346]]\n",
      "[[-122.626526     45.413071  ]\n",
      " [-122.57020076   45.51854318]]\n",
      "[[-122.63063267   45.42943833]\n",
      " [-122.56805559   45.52030475]]\n",
      "sseSplit: 612.65, notSplit: 1100.72\n",
      "[[-122.77700564   45.59236924]\n",
      " [-122.77176706   45.59165591]]\n",
      "[[-122.842918     45.646831  ]\n",
      " [-122.68883188   45.56989887]]\n",
      "sseSplit: 104.16, notSplit: 1761.81\n",
      "[[-122.41195027   45.50051426]\n",
      " [-122.40888733   45.48054784]]\n",
      "[[-122.425553   45.507621]\n",
      " [-122.376304   45.430319]]\n",
      "sseSplit: 0.00, notSplit: 2014.40\n",
      "best_cent_to_split: 0\n",
      "len of best_cluster_assment: 23\n",
      "[[-122.66505892   45.51139825]\n",
      " [-122.57341934   45.5125162 ]\n",
      " [-122.70595256   45.57844689]\n",
      " [-122.4009285    45.46897   ]\n",
      " [-122.761804     45.46639582]]\n"
     ]
    },
    {
     "data": {
      "image/png": "[encoded data removed]",
      "text/plain": [
       "<matplotlib.figure.Figure at 0x16c98763160>"
      ]
     },
     "metadata": {},
     "output_type": "display_data"
    }
   ],
   "source": [
    "clf.cluster_clubs()"
   ]
  },
  {
   "cell_type": "code",
   "execution_count": 63,
   "metadata": {
    "collapsed": true
   },
   "outputs": [],
   "source": [
    "a = np.mat([[-122.4009285,   45.46897  ]])"
   ]
  },
  {
   "cell_type": "code",
   "execution_count": 67,
   "metadata": {},
   "outputs": [
    {
     "data": {
      "text/plain": [
       "matrix([[-122.4009285]])"
      ]
     },
     "execution_count": 67,
     "metadata": {},
     "output_type": "execute_result"
    }
   ],
   "source": [
    "a[:,0]"
   ]
  },
  {
   "cell_type": "code",
   "execution_count": 30,
   "metadata": {},
   "outputs": [
    {
     "data": {
      "text/plain": [
       "array([[ 0.30381202],\n",
       "       [ 0.95726193],\n",
       "       [ 0.92594097]])"
      ]
     },
     "execution_count": 30,
     "metadata": {},
     "output_type": "execute_result"
    }
   ],
   "source": [
    "np.random.rand(3,1)"
   ]
  },
  {
   "cell_type": "code",
   "execution_count": 33,
   "metadata": {},
   "outputs": [
    {
     "data": {
      "text/plain": [
       "inf"
      ]
     },
     "execution_count": 33,
     "metadata": {},
     "output_type": "execute_result"
    }
   ],
   "source": [
    "np.inf"
   ]
  },
  {
   "cell_type": "code",
   "execution_count": null,
   "metadata": {
    "collapsed": true
   },
   "outputs": [],
   "source": []
  }
 ],
 "metadata": {
  "kernelspec": {
   "display_name": "Python 3",
   "language": "python",
   "name": "python3"
  },
  "language_info": {
   "codemirror_mode": {
    "name": "ipython",
    "version": 3
   },
   "file_extension": ".py",
   "mimetype": "text/x-python",
   "name": "python",
   "nbconvert_exporter": "python",
   "pygments_lexer": "ipython3",
   "version": "3.6.3"
  }
 },
 "nbformat": 4,
 "nbformat_minor": 2
}
